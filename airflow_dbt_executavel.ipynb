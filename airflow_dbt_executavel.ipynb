{
  "cells": [
    {
      "cell_type": "markdown",
      "metadata": {
        "id": "view-in-github",
        "colab_type": "text"
      },
      "source": [
        "<a href=\"https://colab.research.google.com/github/LeticiaHms/data-collection-mba/blob/main/airflow_dbt_executavel.ipynb\" target=\"_parent\"><img src=\"https://colab.research.google.com/assets/colab-badge.svg\" alt=\"Open In Colab\"/></a>"
      ]
    },
    {
      "cell_type": "markdown",
      "metadata": {
        "id": "HFd3WpFKDO1V"
      },
      "source": [
        "# 📚 Aula Prática: Pipeline de Dados REAL com Airflow e DBT\n",
        "\n",
        "## Objetivos da Aula\n",
        "- Construir um pipeline funcional que coleta dados REAIS\n",
        "- Executar transformações com DBT no DuckDB\n",
        "- Orquestrar com Airflow\n",
        "- Ver o pipeline rodando de verdade!\n",
        "\n",
        "## APIs que vamos usar (sem necessidade de chave):\n",
        "1. **GitHub API** - Dados de repositórios populares\n",
        "2. **Exchange Rates API** - Taxas de câmbio\n",
        "3. **JSONPlaceholder** - Posts e comentários\n"
      ]
    },
    {
      "cell_type": "markdown",
      "metadata": {
        "id": "dYl0vPJeDO1f"
      },
      "source": [
        "## 🔧 Parte 1: Instalação e Setup"
      ]
    },
    {
      "cell_type": "code",
      "source": [
        "!pip install -q --force-reinstall \"structlog==23.1.0\" \"apache-airflow==2.9.1\""
      ],
      "metadata": {
        "colab": {
          "base_uri": "https://localhost:8080/"
        },
        "id": "0FemzySAMyJ3",
        "outputId": "f881f105-eb83-4828-d975-2794c1a7de55"
      },
      "execution_count": null,
      "outputs": [
        {
          "output_type": "stream",
          "name": "stdout",
          "text": [
            "\u001b[?25l     \u001b[90m━━━━━━━━━━━━━━━━━━━━━━━━━━━━━━━━━━━━━━━━\u001b[0m \u001b[32m0.0/43.7 kB\u001b[0m \u001b[31m?\u001b[0m eta \u001b[36m-:--:--\u001b[0m\r\u001b[2K     \u001b[90m━━━━━━━━━━━━━━━━━━━━━━━━━━━━━━━━━━━━━━━━\u001b[0m \u001b[32m43.7/43.7 kB\u001b[0m \u001b[31m1.8 MB/s\u001b[0m eta \u001b[36m0:00:00\u001b[0m\n",
            "\u001b[?25h  Preparing metadata (setup.py) ... \u001b[?25l\u001b[?25hdone\n",
            "  Preparing metadata (setup.py) ... \u001b[?25l\u001b[?25hdone\n",
            "\u001b[33mWARNING: connexion 2.15.1 does not provide the extra 'flask'\u001b[0m\u001b[33m\n",
            "\u001b[0m\u001b[33mWARNING: connexion 2.15.0 does not provide the extra 'flask'\u001b[0m\u001b[33m\n",
            "\u001b[2K     \u001b[90m━━━━━━━━━━━━━━━━━━━━━━━━━━━━━━━━━━━━━━━━\u001b[0m \u001b[32m75.1/75.1 kB\u001b[0m \u001b[31m6.3 MB/s\u001b[0m eta \u001b[36m0:00:00\u001b[0m\n",
            "\u001b[2K   \u001b[90m━━━━━━━━━━━━━━━━━━━━━━━━━━━━━━━━━━━━━━━━\u001b[0m \u001b[32m13.3/13.3 MB\u001b[0m \u001b[31m136.3 MB/s\u001b[0m eta \u001b[36m0:00:00\u001b[0m\n",
            "\u001b[2K   \u001b[90m━━━━━━━━━━━━━━━━━━━━━━━━━━━━━━━━━━━━━━━━\u001b[0m \u001b[32m247.8/247.8 kB\u001b[0m \u001b[31m22.5 MB/s\u001b[0m eta \u001b[36m0:00:00\u001b[0m\n",
            "\u001b[2K   \u001b[90m━━━━━━━━━━━━━━━━━━━━━━━━━━━━━━━━━━━━━━━━\u001b[0m \u001b[32m98.1/98.1 kB\u001b[0m \u001b[31m10.4 MB/s\u001b[0m eta \u001b[36m0:00:00\u001b[0m\n",
            "\u001b[2K   \u001b[90m━━━━━━━━━━━━━━━━━━━━━━━━━━━━━━━━━━━━━━━━\u001b[0m \u001b[32m2.2/2.2 MB\u001b[0m \u001b[31m63.7 MB/s\u001b[0m eta \u001b[36m0:00:00\u001b[0m\n",
            "\u001b[2K   \u001b[90m━━━━━━━━━━━━━━━━━━━━━━━━━━━━━━━━━━━━━━━━\u001b[0m \u001b[32m67.6/67.6 kB\u001b[0m \u001b[31m6.6 MB/s\u001b[0m eta \u001b[36m0:00:00\u001b[0m\n",
            "\u001b[2K   \u001b[90m━━━━━━━━━━━━━━━━━━━━━━━━━━━━━━━━━━━━━━━━\u001b[0m \u001b[32m95.1/95.1 kB\u001b[0m \u001b[31m9.9 MB/s\u001b[0m eta \u001b[36m0:00:00\u001b[0m\n",
            "\u001b[2K   \u001b[90m━━━━━━━━━━━━━━━━━━━━━━━━━━━━━━━━━━━━━━━━\u001b[0m \u001b[32m4.5/4.5 MB\u001b[0m \u001b[31m125.4 MB/s\u001b[0m eta \u001b[36m0:00:00\u001b[0m\n",
            "\u001b[2K   \u001b[90m━━━━━━━━━━━━━━━━━━━━━━━━━━━━━━━━━━━━━━━━\u001b[0m \u001b[32m119.7/119.7 kB\u001b[0m \u001b[31m13.1 MB/s\u001b[0m eta \u001b[36m0:00:00\u001b[0m\n",
            "\u001b[2K   \u001b[90m━━━━━━━━━━━━━━━━━━━━━━━━━━━━━━━━━━━━━━━━\u001b[0m \u001b[32m101.8/101.8 kB\u001b[0m \u001b[31m10.0 MB/s\u001b[0m eta \u001b[36m0:00:00\u001b[0m\n",
            "\u001b[2K   \u001b[90m━━━━━━━━━━━━━━━━━━━━━━━━━━━━━━━━━━━━━━━━\u001b[0m \u001b[32m201.0/201.0 kB\u001b[0m \u001b[31m19.4 MB/s\u001b[0m eta \u001b[36m0:00:00\u001b[0m\n",
            "\u001b[2K   \u001b[90m━━━━━━━━━━━━━━━━━━━━━━━━━━━━━━━━━━━━━━━━\u001b[0m \u001b[32m591.4/591.4 kB\u001b[0m \u001b[31m44.4 MB/s\u001b[0m eta \u001b[36m0:00:00\u001b[0m\n",
            "\u001b[2K   \u001b[90m━━━━━━━━━━━━━━━━━━━━━━━━━━━━━━━━━━━━━━━━\u001b[0m \u001b[32m85.0/85.0 kB\u001b[0m \u001b[31m9.5 MB/s\u001b[0m eta \u001b[36m0:00:00\u001b[0m\n",
            "\u001b[2K   \u001b[90m━━━━━━━━━━━━━━━━━━━━━━━━━━━━━━━━━━━━━━━━\u001b[0m \u001b[32m134.9/134.9 kB\u001b[0m \u001b[31m15.2 MB/s\u001b[0m eta \u001b[36m0:00:00\u001b[0m\n",
            "\u001b[2K   \u001b[90m━━━━━━━━━━━━━━━━━━━━━━━━━━━━━━━━━━━━━━━━\u001b[0m \u001b[32m90.0/90.0 kB\u001b[0m \u001b[31m9.8 MB/s\u001b[0m eta \u001b[36m0:00:00\u001b[0m\n",
            "\u001b[2K   \u001b[90m━━━━━━━━━━━━━━━━━━━━━━━━━━━━━━━━━━━━━━━━\u001b[0m \u001b[32m87.3/87.3 kB\u001b[0m \u001b[31m9.0 MB/s\u001b[0m eta \u001b[36m0:00:00\u001b[0m\n",
            "\u001b[2K   \u001b[90m━━━━━━━━━━━━━━━━━━━━━━━━━━━━━━━━━━━━━━━━\u001b[0m \u001b[32m57.2/57.2 kB\u001b[0m \u001b[31m5.5 MB/s\u001b[0m eta \u001b[36m0:00:00\u001b[0m\n",
            "\u001b[2K   \u001b[90m━━━━━━━━━━━━━━━━━━━━━━━━━━━━━━━━━━━━━━━━\u001b[0m \u001b[32m66.5/66.5 kB\u001b[0m \u001b[31m6.4 MB/s\u001b[0m eta \u001b[36m0:00:00\u001b[0m\n",
            "\u001b[2K   \u001b[90m━━━━━━━━━━━━━━━━━━━━━━━━━━━━━━━━━━━━━━━━\u001b[0m \u001b[32m1.2/1.2 MB\u001b[0m \u001b[31m78.9 MB/s\u001b[0m eta \u001b[36m0:00:00\u001b[0m\n",
            "\u001b[2K   \u001b[90m━━━━━━━━━━━━━━━━━━━━━━━━━━━━━━━━━━━━━━━━\u001b[0m \u001b[32m229.9/229.9 kB\u001b[0m \u001b[31m23.9 MB/s\u001b[0m eta \u001b[36m0:00:00\u001b[0m\n",
            "\u001b[2K   \u001b[90m━━━━━━━━━━━━━━━━━━━━━━━━━━━━━━━━━━━━━━━━\u001b[0m \u001b[32m64.7/64.7 kB\u001b[0m \u001b[31m6.6 MB/s\u001b[0m eta \u001b[36m0:00:00\u001b[0m\n",
            "\u001b[2K   \u001b[90m━━━━━━━━━━━━━━━━━━━━━━━━━━━━━━━━━━━━━━━━\u001b[0m \u001b[32m1.6/1.6 MB\u001b[0m \u001b[31m93.7 MB/s\u001b[0m eta \u001b[36m0:00:00\u001b[0m\n",
            "\u001b[2K   \u001b[90m━━━━━━━━━━━━━━━━━━━━━━━━━━━━━━━━━━━━━━━━\u001b[0m \u001b[32m72.1/72.1 kB\u001b[0m \u001b[31m7.4 MB/s\u001b[0m eta \u001b[36m0:00:00\u001b[0m\n",
            "\u001b[2K   \u001b[90m━━━━━━━━━━━━━━━━━━━━━━━━━━━━━━━━━━━━━━━━\u001b[0m \u001b[32m233.6/233.6 kB\u001b[0m \u001b[31m20.8 MB/s\u001b[0m eta \u001b[36m0:00:00\u001b[0m\n",
            "\u001b[2K   \u001b[90m━━━━━━━━━━━━━━━━━━━━━━━━━━━━━━━━━━━━━━━━\u001b[0m \u001b[32m63.9/63.9 kB\u001b[0m \u001b[31m6.6 MB/s\u001b[0m eta \u001b[36m0:00:00\u001b[0m\n",
            "\u001b[2K   \u001b[90m━━━━━━━━━━━━━━━━━━━━━━━━━━━━━━━━━━━━━━━━\u001b[0m \u001b[32m73.5/73.5 kB\u001b[0m \u001b[31m7.3 MB/s\u001b[0m eta \u001b[36m0:00:00\u001b[0m\n",
            "\u001b[2K   \u001b[90m━━━━━━━━━━━━━━━━━━━━━━━━━━━━━━━━━━━━━━━━\u001b[0m \u001b[32m78.8/78.8 kB\u001b[0m \u001b[31m7.2 MB/s\u001b[0m eta \u001b[36m0:00:00\u001b[0m\n",
            "\u001b[2K   \u001b[90m━━━━━━━━━━━━━━━━━━━━━━━━━━━━━━━━━━━━━━━━\u001b[0m \u001b[32m1.8/1.8 MB\u001b[0m \u001b[31m88.9 MB/s\u001b[0m eta \u001b[36m0:00:00\u001b[0m\n",
            "\u001b[2K   \u001b[90m━━━━━━━━━━━━━━━━━━━━━━━━━━━━━━━━━━━━━━━━\u001b[0m \u001b[32m163.3/163.3 kB\u001b[0m \u001b[31m17.2 MB/s\u001b[0m eta \u001b[36m0:00:00\u001b[0m\n",
            "\u001b[2K   \u001b[90m━━━━━━━━━━━━━━━━━━━━━━━━━━━━━━━━━━━━━━━━\u001b[0m \u001b[32m219.6/219.6 kB\u001b[0m \u001b[31m20.1 MB/s\u001b[0m eta \u001b[36m0:00:00\u001b[0m\n",
            "\u001b[2K   \u001b[90m━━━━━━━━━━━━━━━━━━━━━━━━━━━━━━━━━━━━━━━━\u001b[0m \u001b[32m153.5/153.5 kB\u001b[0m \u001b[31m15.7 MB/s\u001b[0m eta \u001b[36m0:00:00\u001b[0m\n",
            "\u001b[2K   \u001b[90m━━━━━━━━━━━━━━━━━━━━━━━━━━━━━━━━━━━━━━━━\u001b[0m \u001b[32m107.3/107.3 kB\u001b[0m \u001b[31m11.4 MB/s\u001b[0m eta \u001b[36m0:00:00\u001b[0m\n",
            "\u001b[2K   \u001b[90m━━━━━━━━━━━━━━━━━━━━━━━━━━━━━━━━━━━━━━━━\u001b[0m \u001b[32m607.6/607.6 kB\u001b[0m \u001b[31m51.8 MB/s\u001b[0m eta \u001b[36m0:00:00\u001b[0m\n",
            "\u001b[2K   \u001b[90m━━━━━━━━━━━━━━━━━━━━━━━━━━━━━━━━━━━━━━━━\u001b[0m \u001b[32m71.0/71.0 kB\u001b[0m \u001b[31m6.8 MB/s\u001b[0m eta \u001b[36m0:00:00\u001b[0m\n",
            "\u001b[2K   \u001b[90m━━━━━━━━━━━━━━━━━━━━━━━━━━━━━━━━━━━━━━━━\u001b[0m \u001b[32m50.9/50.9 kB\u001b[0m \u001b[31m5.5 MB/s\u001b[0m eta \u001b[36m0:00:00\u001b[0m\n",
            "\u001b[2K   \u001b[90m━━━━━━━━━━━━━━━━━━━━━━━━━━━━━━━━━━━━━━━━\u001b[0m \u001b[32m69.7/69.7 kB\u001b[0m \u001b[31m7.3 MB/s\u001b[0m eta \u001b[36m0:00:00\u001b[0m\n",
            "\u001b[2K   \u001b[90m━━━━━━━━━━━━━━━━━━━━━━━━━━━━━━━━━━━━━━━━\u001b[0m \u001b[32m509.2/509.2 kB\u001b[0m \u001b[31m43.6 MB/s\u001b[0m eta \u001b[36m0:00:00\u001b[0m\n",
            "\u001b[2K   \u001b[90m━━━━━━━━━━━━━━━━━━━━━━━━━━━━━━━━━━━━━━━━\u001b[0m \u001b[32m807.9/807.9 kB\u001b[0m \u001b[31m62.0 MB/s\u001b[0m eta \u001b[36m0:00:00\u001b[0m\n",
            "\u001b[2K   \u001b[90m━━━━━━━━━━━━━━━━━━━━━━━━━━━━━━━━━━━━━━━━\u001b[0m \u001b[32m54.5/54.5 kB\u001b[0m \u001b[31m6.1 MB/s\u001b[0m eta \u001b[36m0:00:00\u001b[0m\n",
            "\u001b[2K   \u001b[90m━━━━━━━━━━━━━━━━━━━━━━━━━━━━━━━━━━━━━━━━\u001b[0m \u001b[32m386.4/386.4 kB\u001b[0m \u001b[31m33.7 MB/s\u001b[0m eta \u001b[36m0:00:00\u001b[0m\n",
            "\u001b[2K   \u001b[90m━━━━━━━━━━━━━━━━━━━━━━━━━━━━━━━━━━━━━━━━\u001b[0m \u001b[32m44.4/44.4 kB\u001b[0m \u001b[31m4.6 MB/s\u001b[0m eta \u001b[36m0:00:00\u001b[0m\n",
            "\u001b[2K   \u001b[90m━━━━━━━━━━━━━━━━━━━━━━━━━━━━━━━━━━━━━━━━\u001b[0m \u001b[32m78.2/78.2 kB\u001b[0m \u001b[31m7.7 MB/s\u001b[0m eta \u001b[36m0:00:00\u001b[0m\n",
            "\u001b[2K   \u001b[90m━━━━━━━━━━━━━━━━━━━━━━━━━━━━━━━━━━━━━━━━\u001b[0m \u001b[32m44.6/44.6 kB\u001b[0m \u001b[31m4.6 MB/s\u001b[0m eta \u001b[36m0:00:00\u001b[0m\n",
            "\u001b[2K   \u001b[90m━━━━━━━━━━━━━━━━━━━━━━━━━━━━━━━━━━━━━━━━\u001b[0m \u001b[32m347.8/347.8 kB\u001b[0m \u001b[31m30.9 MB/s\u001b[0m eta \u001b[36m0:00:00\u001b[0m\n",
            "\u001b[2K   \u001b[90m━━━━━━━━━━━━━━━━━━━━━━━━━━━━━━━━━━━━━━━━\u001b[0m \u001b[32m129.8/129.8 kB\u001b[0m \u001b[31m13.1 MB/s\u001b[0m eta \u001b[36m0:00:00\u001b[0m\n",
            "\u001b[2K   \u001b[90m━━━━━━━━━━━━━━━━━━━━━━━━━━━━━━━━━━━━━━━━\u001b[0m \u001b[32m121.4/121.4 kB\u001b[0m \u001b[31m12.0 MB/s\u001b[0m eta \u001b[36m0:00:00\u001b[0m\n",
            "\u001b[2K   \u001b[90m━━━━━━━━━━━━━━━━━━━━━━━━━━━━━━━━━━━━━━━━\u001b[0m \u001b[32m152.5/152.5 kB\u001b[0m \u001b[31m15.2 MB/s\u001b[0m eta \u001b[36m0:00:00\u001b[0m\n",
            "\u001b[2K   \u001b[90m━━━━━━━━━━━━━━━━━━━━━━━━━━━━━━━━━━━━━━━━\u001b[0m \u001b[32m109.1/109.1 kB\u001b[0m \u001b[31m11.7 MB/s\u001b[0m eta \u001b[36m0:00:00\u001b[0m\n",
            "\u001b[2K   \u001b[90m━━━━━━━━━━━━━━━━━━━━━━━━━━━━━━━━━━━━━━━━\u001b[0m \u001b[32m78.5/78.5 kB\u001b[0m \u001b[31m8.0 MB/s\u001b[0m eta \u001b[36m0:00:00\u001b[0m\n",
            "\u001b[2K   \u001b[90m━━━━━━━━━━━━━━━━━━━━━━━━━━━━━━━━━━━━━━━━\u001b[0m \u001b[32m242.4/242.4 kB\u001b[0m \u001b[31m24.1 MB/s\u001b[0m eta \u001b[36m0:00:00\u001b[0m\n",
            "\u001b[2K   \u001b[90m━━━━━━━━━━━━━━━━━━━━━━━━━━━━━━━━━━━━━━━━\u001b[0m \u001b[32m242.4/242.4 kB\u001b[0m \u001b[31m25.0 MB/s\u001b[0m eta \u001b[36m0:00:00\u001b[0m\n",
            "\u001b[2K   \u001b[90m━━━━━━━━━━━━━━━━━━━━━━━━━━━━━━━━━━━━━━━━\u001b[0m \u001b[32m294.6/294.6 kB\u001b[0m \u001b[31m29.0 MB/s\u001b[0m eta \u001b[36m0:00:00\u001b[0m\n",
            "\u001b[2K   \u001b[90m━━━━━━━━━━━━━━━━━━━━━━━━━━━━━━━━━━━━━━━━\u001b[0m \u001b[32m6.6/6.6 MB\u001b[0m \u001b[31m94.5 MB/s\u001b[0m eta \u001b[36m0:00:00\u001b[0m\n",
            "\u001b[2K   \u001b[90m━━━━━━━━━━━━━━━━━━━━━━━━━━━━━━━━━━━━━━━━\u001b[0m \u001b[32m256.1/256.1 kB\u001b[0m \u001b[31m25.1 MB/s\u001b[0m eta \u001b[36m0:00:00\u001b[0m\n",
            "\u001b[2K   \u001b[90m━━━━━━━━━━━━━━━━━━━━━━━━━━━━━━━━━━━━━━━━\u001b[0m \u001b[32m221.6/221.6 kB\u001b[0m \u001b[31m21.0 MB/s\u001b[0m eta \u001b[36m0:00:00\u001b[0m\n",
            "\u001b[2K   \u001b[90m━━━━━━━━━━━━━━━━━━━━━━━━━━━━━━━━━━━━━━━━\u001b[0m \u001b[32m377.3/377.3 kB\u001b[0m \u001b[31m35.1 MB/s\u001b[0m eta \u001b[36m0:00:00\u001b[0m\n",
            "\u001b[2K   \u001b[90m━━━━━━━━━━━━━━━━━━━━━━━━━━━━━━━━━━━━━━━━\u001b[0m \u001b[32m118.1/118.1 kB\u001b[0m \u001b[31m12.1 MB/s\u001b[0m eta \u001b[36m0:00:00\u001b[0m\n",
            "\u001b[2K   \u001b[90m━━━━━━━━━━━━━━━━━━━━━━━━━━━━━━━━━━━━━━━━\u001b[0m \u001b[32m10.2/10.2 MB\u001b[0m \u001b[31m149.4 MB/s\u001b[0m eta \u001b[36m0:00:00\u001b[0m\n",
            "\u001b[2K   \u001b[90m━━━━━━━━━━━━━━━━━━━━━━━━━━━━━━━━━━━━━━━━\u001b[0m \u001b[32m60.6/60.6 kB\u001b[0m \u001b[31m6.1 MB/s\u001b[0m eta \u001b[36m0:00:00\u001b[0m\n",
            "\u001b[?25h  Building wheel for python-nvd3 (setup.py) ... \u001b[?25l\u001b[?25hdone\n",
            "  Building wheel for unicodecsv (setup.py) ... \u001b[?25l\u001b[?25hdone\n",
            "\u001b[31mERROR: pip's dependency resolver does not currently take into account all the packages that are installed. This behaviour is the source of the following dependency conflicts.\n",
            "ipython 7.34.0 requires jedi>=0.16, which is not installed.\n",
            "apache-airflow-core 3.1.1 requires apache-airflow-providers-common-compat>=1.7.4, but you have apache-airflow-providers-common-compat 1.6.1 which is incompatible.\n",
            "apache-airflow-core 3.1.1 requires apache-airflow-providers-common-io>=1.6.3, but you have apache-airflow-providers-common-io 1.5.4 which is incompatible.\n",
            "apache-airflow-core 3.1.1 requires apache-airflow-providers-common-sql>=1.28.1, but you have apache-airflow-providers-common-sql 1.26.0 which is incompatible.\n",
            "apache-airflow-core 3.1.1 requires apache-airflow-providers-smtp>=2.3.1, but you have apache-airflow-providers-smtp 2.0.3 which is incompatible.\n",
            "apache-airflow-core 3.1.1 requires colorlog>=6.8.2, but you have colorlog 4.8.0 which is incompatible.\n",
            "apache-airflow-core 3.1.1 requires structlog>=25.4.0, but you have structlog 23.1.0 which is incompatible.\n",
            "apache-airflow-core 3.1.1 requires universal-pathlib<0.3.0,>=0.2.6, but you have universal-pathlib 0.3.4 which is incompatible.\n",
            "apache-airflow-providers-standard 1.9.1 requires apache-airflow>=2.10.0, but you have apache-airflow 2.9.1 which is incompatible.\n",
            "apache-airflow-providers-standard 1.9.1 requires apache-airflow-providers-common-compat>=1.8.0, but you have apache-airflow-providers-common-compat 1.6.1 which is incompatible.\n",
            "apache-airflow-task-sdk 1.1.1 requires colorlog>=6.8.2, but you have colorlog 4.8.0 which is incompatible.\n",
            "apache-airflow-task-sdk 1.1.1 requires structlog>=25.4.0, but you have structlog 23.1.0 which is incompatible.\n",
            "google-colab 1.0.0 requires requests==2.32.4, but you have requests 2.32.5 which is incompatible.\n",
            "tensorflow 2.19.0 requires protobuf!=4.21.0,!=4.21.1,!=4.21.2,!=4.21.3,!=4.21.4,!=4.21.5,<6.0.0dev,>=3.20.3, but you have protobuf 6.33.0 which is incompatible.\n",
            "pyopenssl 24.2.1 requires cryptography<44,>=41.0.5, but you have cryptography 46.0.3 which is incompatible.\n",
            "google-ai-generativelanguage 0.6.15 requires protobuf!=4.21.0,!=4.21.1,!=4.21.2,!=4.21.3,!=4.21.4,!=4.21.5,<6.0.0dev,>=3.20.2, but you have protobuf 6.33.0 which is incompatible.\n",
            "ipython-sql 0.5.0 requires sqlalchemy>=2.0, but you have sqlalchemy 1.4.54 which is incompatible.\n",
            "datasets 4.0.0 requires dill<0.3.9,>=0.3.0, but you have dill 0.4.0 which is incompatible.\n",
            "datasets 4.0.0 requires fsspec[http]<=2025.3.0,>=2023.1.0, but you have fsspec 2025.10.0 which is incompatible.\n",
            "pydrive2 1.21.3 requires cryptography<44, but you have cryptography 46.0.3 which is incompatible.\n",
            "gcsfs 2025.3.0 requires fsspec==2025.3.0, but you have fsspec 2025.10.0 which is incompatible.\n",
            "grpcio-status 1.71.2 requires protobuf<6.0dev,>=5.26.1, but you have protobuf 6.33.0 which is incompatible.\n",
            "google-adk 1.17.0 requires opentelemetry-api<=1.37.0,>=1.37.0, but you have opentelemetry-api 1.38.0 which is incompatible.\n",
            "google-adk 1.17.0 requires opentelemetry-sdk<=1.37.0,>=1.37.0, but you have opentelemetry-sdk 1.38.0 which is incompatible.\n",
            "google-adk 1.17.0 requires sqlalchemy<3.0.0,>=2.0, but you have sqlalchemy 1.4.54 which is incompatible.\n",
            "google-adk 1.17.0 requires tenacity<9.0.0,>=8.0.0, but you have tenacity 9.1.2 which is incompatible.\u001b[0m\u001b[31m\n",
            "\u001b[0m"
          ]
        }
      ]
    },
    {
      "cell_type": "code",
      "execution_count": null,
      "metadata": {
        "id": "Q_EPTXerDO1i"
      },
      "outputs": [],
      "source": [
        "# Instalação das dependências\n",
        "#!pip install -q apache-airflow\n",
        "!pip install -q dbt-core dbt-duckdb\n",
        "!pip install -q pandas requests duckdb python-dotenv\n",
        "!pip install -q pendulum tabulate rich"
      ]
    },
    {
      "cell_type": "code",
      "execution_count": null,
      "metadata": {
        "colab": {
          "base_uri": "https://localhost:8080/",
          "height": 68
        },
        "id": "JRXJS2_qDO1m",
        "outputId": "2f504419-c952-4ed0-91a1-a3791abf1aad"
      },
      "outputs": [
        {
          "output_type": "display_data",
          "data": {
            "text/plain": [
              "\u001b[1;32m╭────────────────────────────────────────────╮\u001b[0m\n",
              "\u001b[1;32m│\u001b[0m\u001b[1;32m \u001b[0m\u001b[1;32m✅ Estrutura de pastas criada com sucesso!\u001b[0m\u001b[1;32m \u001b[0m\u001b[1;32m│\u001b[0m\n",
              "\u001b[1;32m╰────────────────────────────────────────────╯\u001b[0m\n"
            ],
            "text/html": [
              "<pre style=\"white-space:pre;overflow-x:auto;line-height:normal;font-family:Menlo,'DejaVu Sans Mono',consolas,'Courier New',monospace\"><span style=\"color: #008000; text-decoration-color: #008000; font-weight: bold\">╭────────────────────────────────────────────╮</span>\n",
              "<span style=\"color: #008000; text-decoration-color: #008000; font-weight: bold\">│ ✅ Estrutura de pastas criada com sucesso! │</span>\n",
              "<span style=\"color: #008000; text-decoration-color: #008000; font-weight: bold\">╰────────────────────────────────────────────╯</span>\n",
              "</pre>\n"
            ]
          },
          "metadata": {}
        }
      ],
      "source": [
        "# Configuração de diretórios e imports\n",
        "import os\n",
        "import sys\n",
        "import json\n",
        "import requests\n",
        "import pandas as pd\n",
        "import duckdb\n",
        "from datetime import datetime, timedelta\n",
        "from pathlib import Path\n",
        "import logging\n",
        "from rich.console import Console\n",
        "from rich.table import Table\n",
        "from rich.panel import Panel\n",
        "from rich import print as rprint\n",
        "\n",
        "# Console para outputs bonitos\n",
        "console = Console()\n",
        "\n",
        "# Criando estrutura de pastas\n",
        "base_path = Path('/content/data_pipeline')\n",
        "dirs_to_create = [\n",
        "    'dags',\n",
        "    'plugins',\n",
        "    'data/raw',\n",
        "    'data/processed',\n",
        "    'dbt_project/models/staging',\n",
        "    'dbt_project/models/marts',\n",
        "    'dbt_project/models/tests',\n",
        "    'dbt_project/macros',\n",
        "    'dbt_project/seeds',\n",
        "    'logs'\n",
        "]\n",
        "\n",
        "for dir_path in dirs_to_create:\n",
        "    (base_path / dir_path).mkdir(parents=True, exist_ok=True)\n",
        "\n",
        "console.print(Panel.fit(\"✅ Estrutura de pastas criada com sucesso!\", style=\"bold green\"))"
      ]
    },
    {
      "cell_type": "markdown",
      "metadata": {
        "id": "e74PR4eKDO1p"
      },
      "source": [
        "## 🌐 Parte 2: Coleta de Dados REAIS de APIs Públicas"
      ]
    },
    {
      "cell_type": "code",
      "execution_count": null,
      "metadata": {
        "colab": {
          "base_uri": "https://localhost:8080/",
          "height": 68
        },
        "id": "r3pMOn6LDO1r",
        "outputId": "5b3bb16a-88f0-4848-85fb-68ff30b29be9"
      },
      "outputs": [
        {
          "output_type": "display_data",
          "data": {
            "text/plain": [
              "\u001b[1;32m╭───────────────────────────────╮\u001b[0m\n",
              "\u001b[1;32m│\u001b[0m\u001b[1;32m \u001b[0m\u001b[1;32m✅ Módulo de extração criado!\u001b[0m\u001b[1;32m \u001b[0m\u001b[1;32m│\u001b[0m\n",
              "\u001b[1;32m╰───────────────────────────────╯\u001b[0m\n"
            ],
            "text/html": [
              "<pre style=\"white-space:pre;overflow-x:auto;line-height:normal;font-family:Menlo,'DejaVu Sans Mono',consolas,'Courier New',monospace\"><span style=\"color: #008000; text-decoration-color: #008000; font-weight: bold\">╭───────────────────────────────╮</span>\n",
              "<span style=\"color: #008000; text-decoration-color: #008000; font-weight: bold\">│ ✅ Módulo de extração criado! │</span>\n",
              "<span style=\"color: #008000; text-decoration-color: #008000; font-weight: bold\">╰───────────────────────────────╯</span>\n",
              "</pre>\n"
            ]
          },
          "metadata": {}
        }
      ],
      "source": [
        "# Vamos criar nosso módulo de extração que REALMENTE funciona\n",
        "extractor_code = '''\n",
        "import requests\n",
        "import pandas as pd\n",
        "import json\n",
        "from datetime import datetime\n",
        "import time\n",
        "from typing import List, Dict, Optional\n",
        "import logging\n",
        "\n",
        "logging.basicConfig(level=logging.INFO)\n",
        "logger = logging.getLogger(__name__)\n",
        "\n",
        "class MultiSourceDataExtractor:\n",
        "    \"\"\"Extrator de dados de múltiplas APIs públicas\"\"\"\n",
        "\n",
        "    def __init__(self):\n",
        "        self.session = requests.Session()\n",
        "        self.session.headers.update({\n",
        "            'User-Agent': 'DataPipeline-Educational/1.0'\n",
        "        })\n",
        "\n",
        "    def extract_github_repos(self, language: str = \"python\", limit: int = 10) -> pd.DataFrame:\n",
        "        \"\"\"Extrai dados dos repositórios mais populares do GitHub\"\"\"\n",
        "        try:\n",
        "            url = \"https://api.github.com/search/repositories\"\n",
        "            params = {\n",
        "                'q': f'language:{language}',\n",
        "                'sort': 'stars',\n",
        "                'order': 'desc',\n",
        "                'per_page': limit\n",
        "            }\n",
        "\n",
        "            response = self.session.get(url, params=params, timeout=10)\n",
        "\n",
        "            if response.status_code == 200:\n",
        "                data = response.json()\n",
        "                repos = []\n",
        "\n",
        "                for repo in data.get('items', []):\n",
        "                    repos.append({\n",
        "                        'repo_name': repo.get('name'),\n",
        "                        'owner': repo.get('owner', {}).get('login'),\n",
        "                        'stars': repo.get('stargazers_count'),\n",
        "                        'forks': repo.get('forks_count'),\n",
        "                        'open_issues': repo.get('open_issues_count'),\n",
        "                        'language': repo.get('language'),\n",
        "                        'created_at': repo.get('created_at'),\n",
        "                        'updated_at': repo.get('updated_at'),\n",
        "                        'description': repo.get('description', '')[:200],\n",
        "                        'url': repo.get('html_url'),\n",
        "                        'collected_at': datetime.now().isoformat(),\n",
        "                        'source': 'github'\n",
        "                    })\n",
        "\n",
        "                df = pd.DataFrame(repos)\n",
        "                logger.info(f\"✅ Extraídos {len(df)} repositórios do GitHub\")\n",
        "                return df\n",
        "            else:\n",
        "                logger.error(f\"❌ Erro GitHub API: {response.status_code}\")\n",
        "                return pd.DataFrame()\n",
        "\n",
        "        except Exception as e:\n",
        "            logger.error(f\"❌ Exceção ao extrair GitHub: {str(e)}\")\n",
        "            return pd.DataFrame()\n",
        "\n",
        "    def extract_exchange_rates(self, base: str = \"USD\") -> pd.DataFrame:\n",
        "        \"\"\"Extrai taxas de câmbio atuais\"\"\"\n",
        "        try:\n",
        "            url = f\"https://api.exchangerate-api.com/v4/latest/{base}\"\n",
        "            response = self.session.get(url, timeout=10)\n",
        "\n",
        "            if response.status_code == 200:\n",
        "                data = response.json()\n",
        "                rates = []\n",
        "\n",
        "                for currency, rate in data.get('rates', {}).items():\n",
        "                    rates.append({\n",
        "                        'base_currency': base,\n",
        "                        'target_currency': currency,\n",
        "                        'exchange_rate': rate,\n",
        "                        'date': data.get('date'),\n",
        "                        'collected_at': datetime.now().isoformat(),\n",
        "                        'source': 'exchange_rates'\n",
        "                    })\n",
        "\n",
        "                df = pd.DataFrame(rates)\n",
        "                logger.info(f\"✅ Extraídas {len(df)} taxas de câmbio\")\n",
        "                return df\n",
        "            else:\n",
        "                logger.error(f\"❌ Erro Exchange API: {response.status_code}\")\n",
        "                return pd.DataFrame()\n",
        "\n",
        "        except Exception as e:\n",
        "            logger.error(f\"❌ Exceção ao extrair taxas: {str(e)}\")\n",
        "            return pd.DataFrame()\n",
        "\n",
        "    def extract_posts_and_comments(self, limit: int = 10) -> pd.DataFrame:\n",
        "        \"\"\"Extrai posts e comentários do JSONPlaceholder\"\"\"\n",
        "        try:\n",
        "            # Busca posts\n",
        "            posts_url = \"https://jsonplaceholder.typicode.com/posts\"\n",
        "            posts_response = self.session.get(posts_url, timeout=10)\n",
        "\n",
        "            # Busca comentários\n",
        "            comments_url = \"https://jsonplaceholder.typicode.com/comments\"\n",
        "            comments_response = self.session.get(comments_url, timeout=10)\n",
        "\n",
        "            if posts_response.status_code == 200 and comments_response.status_code == 200:\n",
        "                posts = posts_response.json()[:limit]\n",
        "                comments = comments_response.json()\n",
        "\n",
        "                # Conta comentários por post\n",
        "                comments_count = {}\n",
        "                for comment in comments:\n",
        "                    post_id = comment['postId']\n",
        "                    comments_count[post_id] = comments_count.get(post_id, 0) + 1\n",
        "\n",
        "                # Cria DataFrame\n",
        "                posts_data = []\n",
        "                for post in posts:\n",
        "                    posts_data.append({\n",
        "                        'post_id': post['id'],\n",
        "                        'user_id': post['userId'],\n",
        "                        'title': post['title'],\n",
        "                        'body': post['body'][:200],\n",
        "                        'comment_count': comments_count.get(post['id'], 0),\n",
        "                        'collected_at': datetime.now().isoformat(),\n",
        "                        'source': 'jsonplaceholder'\n",
        "                    })\n",
        "\n",
        "                df = pd.DataFrame(posts_data)\n",
        "                logger.info(f\"✅ Extraídos {len(df)} posts com comentários\")\n",
        "                return df\n",
        "            else:\n",
        "                logger.error(f\"❌ Erro JSONPlaceholder API\")\n",
        "                return pd.DataFrame()\n",
        "\n",
        "        except Exception as e:\n",
        "            logger.error(f\"❌ Exceção ao extrair posts: {str(e)}\")\n",
        "            return pd.DataFrame()\n",
        "\n",
        "    def extract_all_sources(self) -> Dict[str, pd.DataFrame]:\n",
        "        \"\"\"Extrai dados de todas as fontes\"\"\"\n",
        "        logger.info(\"🚀 Iniciando extração de todas as fontes...\")\n",
        "\n",
        "        results = {}\n",
        "\n",
        "        # GitHub\n",
        "        logger.info(\"📊 Extraindo dados do GitHub...\")\n",
        "        results['github'] = self.extract_github_repos()\n",
        "        time.sleep(1)  # Rate limiting\n",
        "\n",
        "        # Exchange Rates\n",
        "        logger.info(\"💱 Extraindo taxas de câmbio...\")\n",
        "        results['exchange'] = self.extract_exchange_rates()\n",
        "        time.sleep(1)\n",
        "\n",
        "        # Posts\n",
        "        logger.info(\"📝 Extraindo posts e comentários...\")\n",
        "        results['posts'] = self.extract_posts_and_comments()\n",
        "\n",
        "        logger.info(\"✅ Extração completa!\")\n",
        "        return results\n",
        "'''\n",
        "\n",
        "# Salva o módulo extrator\n",
        "with open('/content/data_pipeline/plugins/data_extractor.py', 'w') as f:\n",
        "    f.write(extractor_code)\n",
        "\n",
        "console.print(Panel.fit(\"✅ Módulo de extração criado!\", style=\"bold green\"))"
      ]
    },
    {
      "cell_type": "code",
      "execution_count": null,
      "metadata": {
        "colab": {
          "base_uri": "https://localhost:8080/",
          "height": 544
        },
        "id": "juWvFzCaDO1u",
        "outputId": "9b4c70ae-58f4-49f0-e244-a9bf9669aef4"
      },
      "outputs": [
        {
          "output_type": "display_data",
          "data": {
            "text/plain": [
              "\n",
              "🚀 \u001b[1;33mEXECUTANDO EXTRAÇÃO DE DADOS REAIS\u001b[0m\n",
              "\n"
            ],
            "text/html": [
              "<pre style=\"white-space:pre;overflow-x:auto;line-height:normal;font-family:Menlo,'DejaVu Sans Mono',consolas,'Courier New',monospace\">\n",
              "🚀 <span style=\"color: #808000; text-decoration-color: #808000; font-weight: bold\">EXECUTANDO EXTRAÇÃO DE DADOS REAIS</span>\n",
              "\n",
              "</pre>\n"
            ]
          },
          "metadata": {}
        },
        {
          "output_type": "display_data",
          "data": {
            "text/plain": [
              "\n",
              "📊 \u001b[1;36mRESUMO DOS DADOS EXTRAÍDOS:\u001b[0m\n",
              "\n"
            ],
            "text/html": [
              "<pre style=\"white-space:pre;overflow-x:auto;line-height:normal;font-family:Menlo,'DejaVu Sans Mono',consolas,'Courier New',monospace\">\n",
              "📊 <span style=\"color: #008080; text-decoration-color: #008080; font-weight: bold\">RESUMO DOS DADOS EXTRAÍDOS:</span>\n",
              "\n",
              "</pre>\n"
            ]
          },
          "metadata": {}
        },
        {
          "output_type": "display_data",
          "data": {
            "text/plain": [
              "\u001b[3m                                                  Dados de GITHUB                                                  \u001b[0m\n",
              "┏━━━━━━━━━━━━━━━━━━━━┳━━━━━━━━━━━━━━━━━━━━━━━━━━━━━━━━━━━━━━━━━━━━━━━━━━━━━━━━━━━━━━━━━━━━━━━━━━━━━━━━━━━━━━━━━━━━┓\n",
              "┃\u001b[1m \u001b[0m\u001b[1mMétrica           \u001b[0m\u001b[1m \u001b[0m┃\u001b[1m \u001b[0m\u001b[1mValor                                                                                     \u001b[0m\u001b[1m \u001b[0m┃\n",
              "┡━━━━━━━━━━━━━━━━━━━━╇━━━━━━━━━━━━━━━━━━━━━━━━━━━━━━━━━━━━━━━━━━━━━━━━━━━━━━━━━━━━━━━━━━━━━━━━━━━━━━━━━━━━━━━━━━━━┩\n",
              "│\u001b[36m \u001b[0m\u001b[36mTotal de Registros\u001b[0m\u001b[36m \u001b[0m│\u001b[32m \u001b[0m\u001b[32m10                                                                                        \u001b[0m\u001b[32m \u001b[0m│\n",
              "│\u001b[36m \u001b[0m\u001b[36mColunas           \u001b[0m\u001b[36m \u001b[0m│\u001b[32m \u001b[0m\u001b[32m['repo_name', 'owner', 'stars', 'forks', 'open_issues']                                   \u001b[0m\u001b[32m \u001b[0m│\n",
              "│\u001b[36m \u001b[0m\u001b[36mPrimeira Linha    \u001b[0m\u001b[36m \u001b[0m│\u001b[32m \u001b[0m\u001b[32m{'repo_name': 'free-programming-books', 'owner': 'EbookFoundation', 'stars': 375598,      \u001b[0m\u001b[32m \u001b[0m│\n",
              "│\u001b[36m                    \u001b[0m│\u001b[32m \u001b[0m\u001b[32m'forks': 65257,...                                                                        \u001b[0m\u001b[32m \u001b[0m│\n",
              "└────────────────────┴────────────────────────────────────────────────────────────────────────────────────────────┘\n"
            ],
            "text/html": [
              "<pre style=\"white-space:pre;overflow-x:auto;line-height:normal;font-family:Menlo,'DejaVu Sans Mono',consolas,'Courier New',monospace\"><span style=\"font-style: italic\">                                                  Dados de GITHUB                                                  </span>\n",
              "┏━━━━━━━━━━━━━━━━━━━━┳━━━━━━━━━━━━━━━━━━━━━━━━━━━━━━━━━━━━━━━━━━━━━━━━━━━━━━━━━━━━━━━━━━━━━━━━━━━━━━━━━━━━━━━━━━━━┓\n",
              "┃<span style=\"font-weight: bold\"> Métrica            </span>┃<span style=\"font-weight: bold\"> Valor                                                                                      </span>┃\n",
              "┡━━━━━━━━━━━━━━━━━━━━╇━━━━━━━━━━━━━━━━━━━━━━━━━━━━━━━━━━━━━━━━━━━━━━━━━━━━━━━━━━━━━━━━━━━━━━━━━━━━━━━━━━━━━━━━━━━━┩\n",
              "│<span style=\"color: #008080; text-decoration-color: #008080\"> Total de Registros </span>│<span style=\"color: #008000; text-decoration-color: #008000\"> 10                                                                                         </span>│\n",
              "│<span style=\"color: #008080; text-decoration-color: #008080\"> Colunas            </span>│<span style=\"color: #008000; text-decoration-color: #008000\"> ['repo_name', 'owner', 'stars', 'forks', 'open_issues']                                    </span>│\n",
              "│<span style=\"color: #008080; text-decoration-color: #008080\"> Primeira Linha     </span>│<span style=\"color: #008000; text-decoration-color: #008000\"> {'repo_name': 'free-programming-books', 'owner': 'EbookFoundation', 'stars': 375598,       </span>│\n",
              "│<span style=\"color: #008080; text-decoration-color: #008080\">                    </span>│<span style=\"color: #008000; text-decoration-color: #008000\"> 'forks': 65257,...                                                                         </span>│\n",
              "└────────────────────┴────────────────────────────────────────────────────────────────────────────────────────────┘\n",
              "</pre>\n"
            ]
          },
          "metadata": {}
        },
        {
          "output_type": "display_data",
          "data": {
            "text/plain": [
              "\n"
            ],
            "text/html": [
              "<pre style=\"white-space:pre;overflow-x:auto;line-height:normal;font-family:Menlo,'DejaVu Sans Mono',consolas,'Courier New',monospace\">\n",
              "</pre>\n"
            ]
          },
          "metadata": {}
        },
        {
          "output_type": "display_data",
          "data": {
            "text/plain": [
              "\u001b[3m                                                 Dados de EXCHANGE                                                 \u001b[0m\n",
              "┏━━━━━━━━━━━━━━━━━━━━┳━━━━━━━━━━━━━━━━━━━━━━━━━━━━━━━━━━━━━━━━━━━━━━━━━━━━━━━━━━━━━━━━━━━━━━━━━━━━━━━━━━━━━━━━━━━━┓\n",
              "┃\u001b[1m \u001b[0m\u001b[1mMétrica           \u001b[0m\u001b[1m \u001b[0m┃\u001b[1m \u001b[0m\u001b[1mValor                                                                                     \u001b[0m\u001b[1m \u001b[0m┃\n",
              "┡━━━━━━━━━━━━━━━━━━━━╇━━━━━━━━━━━━━━━━━━━━━━━━━━━━━━━━━━━━━━━━━━━━━━━━━━━━━━━━━━━━━━━━━━━━━━━━━━━━━━━━━━━━━━━━━━━━┩\n",
              "│\u001b[36m \u001b[0m\u001b[36mTotal de Registros\u001b[0m\u001b[36m \u001b[0m│\u001b[32m \u001b[0m\u001b[32m165                                                                                       \u001b[0m\u001b[32m \u001b[0m│\n",
              "│\u001b[36m \u001b[0m\u001b[36mColunas           \u001b[0m\u001b[36m \u001b[0m│\u001b[32m \u001b[0m\u001b[32m['base_currency', 'target_currency', 'exchange_rate', 'date', 'collected_at']             \u001b[0m\u001b[32m \u001b[0m│\n",
              "│\u001b[36m \u001b[0m\u001b[36mPrimeira Linha    \u001b[0m\u001b[36m \u001b[0m│\u001b[32m \u001b[0m\u001b[32m{'base_currency': 'USD', 'target_currency': 'USD', 'exchange_rate': 1.0, 'date':          \u001b[0m\u001b[32m \u001b[0m│\n",
              "│\u001b[36m                    \u001b[0m│\u001b[32m \u001b[0m\u001b[32m'2025-10-30', 'coll...                                                                    \u001b[0m\u001b[32m \u001b[0m│\n",
              "└────────────────────┴────────────────────────────────────────────────────────────────────────────────────────────┘\n"
            ],
            "text/html": [
              "<pre style=\"white-space:pre;overflow-x:auto;line-height:normal;font-family:Menlo,'DejaVu Sans Mono',consolas,'Courier New',monospace\"><span style=\"font-style: italic\">                                                 Dados de EXCHANGE                                                 </span>\n",
              "┏━━━━━━━━━━━━━━━━━━━━┳━━━━━━━━━━━━━━━━━━━━━━━━━━━━━━━━━━━━━━━━━━━━━━━━━━━━━━━━━━━━━━━━━━━━━━━━━━━━━━━━━━━━━━━━━━━━┓\n",
              "┃<span style=\"font-weight: bold\"> Métrica            </span>┃<span style=\"font-weight: bold\"> Valor                                                                                      </span>┃\n",
              "┡━━━━━━━━━━━━━━━━━━━━╇━━━━━━━━━━━━━━━━━━━━━━━━━━━━━━━━━━━━━━━━━━━━━━━━━━━━━━━━━━━━━━━━━━━━━━━━━━━━━━━━━━━━━━━━━━━━┩\n",
              "│<span style=\"color: #008080; text-decoration-color: #008080\"> Total de Registros </span>│<span style=\"color: #008000; text-decoration-color: #008000\"> 165                                                                                        </span>│\n",
              "│<span style=\"color: #008080; text-decoration-color: #008080\"> Colunas            </span>│<span style=\"color: #008000; text-decoration-color: #008000\"> ['base_currency', 'target_currency', 'exchange_rate', 'date', 'collected_at']              </span>│\n",
              "│<span style=\"color: #008080; text-decoration-color: #008080\"> Primeira Linha     </span>│<span style=\"color: #008000; text-decoration-color: #008000\"> {'base_currency': 'USD', 'target_currency': 'USD', 'exchange_rate': 1.0, 'date':           </span>│\n",
              "│<span style=\"color: #008080; text-decoration-color: #008080\">                    </span>│<span style=\"color: #008000; text-decoration-color: #008000\"> '2025-10-30', 'coll...                                                                     </span>│\n",
              "└────────────────────┴────────────────────────────────────────────────────────────────────────────────────────────┘\n",
              "</pre>\n"
            ]
          },
          "metadata": {}
        },
        {
          "output_type": "display_data",
          "data": {
            "text/plain": [
              "\n"
            ],
            "text/html": [
              "<pre style=\"white-space:pre;overflow-x:auto;line-height:normal;font-family:Menlo,'DejaVu Sans Mono',consolas,'Courier New',monospace\">\n",
              "</pre>\n"
            ]
          },
          "metadata": {}
        },
        {
          "output_type": "display_data",
          "data": {
            "text/plain": [
              "\u001b[3m                                                  Dados de POSTS                                                   \u001b[0m\n",
              "┏━━━━━━━━━━━━━━━━━━━━┳━━━━━━━━━━━━━━━━━━━━━━━━━━━━━━━━━━━━━━━━━━━━━━━━━━━━━━━━━━━━━━━━━━━━━━━━━━━━━━━━━━━━━━━━━━━━┓\n",
              "┃\u001b[1m \u001b[0m\u001b[1mMétrica           \u001b[0m\u001b[1m \u001b[0m┃\u001b[1m \u001b[0m\u001b[1mValor                                                                                     \u001b[0m\u001b[1m \u001b[0m┃\n",
              "┡━━━━━━━━━━━━━━━━━━━━╇━━━━━━━━━━━━━━━━━━━━━━━━━━━━━━━━━━━━━━━━━━━━━━━━━━━━━━━━━━━━━━━━━━━━━━━━━━━━━━━━━━━━━━━━━━━━┩\n",
              "│\u001b[36m \u001b[0m\u001b[36mTotal de Registros\u001b[0m\u001b[36m \u001b[0m│\u001b[32m \u001b[0m\u001b[32m10                                                                                        \u001b[0m\u001b[32m \u001b[0m│\n",
              "│\u001b[36m \u001b[0m\u001b[36mColunas           \u001b[0m\u001b[36m \u001b[0m│\u001b[32m \u001b[0m\u001b[32m['post_id', 'user_id', 'title', 'body', 'comment_count']                                  \u001b[0m\u001b[32m \u001b[0m│\n",
              "│\u001b[36m \u001b[0m\u001b[36mPrimeira Linha    \u001b[0m\u001b[36m \u001b[0m│\u001b[32m \u001b[0m\u001b[32m{'post_id': 1, 'user_id': 1, 'title': 'sunt aut facere repellat provident occaecati       \u001b[0m\u001b[32m \u001b[0m│\n",
              "│\u001b[36m                    \u001b[0m│\u001b[32m \u001b[0m\u001b[32mexcepturi optio ...                                                                       \u001b[0m\u001b[32m \u001b[0m│\n",
              "└────────────────────┴────────────────────────────────────────────────────────────────────────────────────────────┘\n"
            ],
            "text/html": [
              "<pre style=\"white-space:pre;overflow-x:auto;line-height:normal;font-family:Menlo,'DejaVu Sans Mono',consolas,'Courier New',monospace\"><span style=\"font-style: italic\">                                                  Dados de POSTS                                                   </span>\n",
              "┏━━━━━━━━━━━━━━━━━━━━┳━━━━━━━━━━━━━━━━━━━━━━━━━━━━━━━━━━━━━━━━━━━━━━━━━━━━━━━━━━━━━━━━━━━━━━━━━━━━━━━━━━━━━━━━━━━━┓\n",
              "┃<span style=\"font-weight: bold\"> Métrica            </span>┃<span style=\"font-weight: bold\"> Valor                                                                                      </span>┃\n",
              "┡━━━━━━━━━━━━━━━━━━━━╇━━━━━━━━━━━━━━━━━━━━━━━━━━━━━━━━━━━━━━━━━━━━━━━━━━━━━━━━━━━━━━━━━━━━━━━━━━━━━━━━━━━━━━━━━━━━┩\n",
              "│<span style=\"color: #008080; text-decoration-color: #008080\"> Total de Registros </span>│<span style=\"color: #008000; text-decoration-color: #008000\"> 10                                                                                         </span>│\n",
              "│<span style=\"color: #008080; text-decoration-color: #008080\"> Colunas            </span>│<span style=\"color: #008000; text-decoration-color: #008000\"> ['post_id', 'user_id', 'title', 'body', 'comment_count']                                   </span>│\n",
              "│<span style=\"color: #008080; text-decoration-color: #008080\"> Primeira Linha     </span>│<span style=\"color: #008000; text-decoration-color: #008000\"> {'post_id': 1, 'user_id': 1, 'title': 'sunt aut facere repellat provident occaecati        </span>│\n",
              "│<span style=\"color: #008080; text-decoration-color: #008080\">                    </span>│<span style=\"color: #008000; text-decoration-color: #008000\"> excepturi optio ...                                                                        </span>│\n",
              "└────────────────────┴────────────────────────────────────────────────────────────────────────────────────────────┘\n",
              "</pre>\n"
            ]
          },
          "metadata": {}
        },
        {
          "output_type": "display_data",
          "data": {
            "text/plain": [
              "\n"
            ],
            "text/html": [
              "<pre style=\"white-space:pre;overflow-x:auto;line-height:normal;font-family:Menlo,'DejaVu Sans Mono',consolas,'Courier New',monospace\">\n",
              "</pre>\n"
            ]
          },
          "metadata": {}
        }
      ],
      "source": [
        "# AGORA VAMOS EXECUTAR O EXTRATOR DE VERDADE!\n",
        "sys.path.append('/content/data_pipeline/plugins')\n",
        "from data_extractor import MultiSourceDataExtractor\n",
        "\n",
        "console.print(\"\\n🚀 [bold yellow]EXECUTANDO EXTRAÇÃO DE DADOS REAIS[/bold yellow]\\n\")\n",
        "\n",
        "# Cria instância do extrator\n",
        "extractor = MultiSourceDataExtractor()\n",
        "\n",
        "# EXTRAI DADOS DE VERDADE!\n",
        "all_data = extractor.extract_all_sources()\n",
        "\n",
        "# Mostra resumo dos dados extraídos\n",
        "console.print(\"\\n📊 [bold cyan]RESUMO DOS DADOS EXTRAÍDOS:[/bold cyan]\\n\")\n",
        "\n",
        "for source, df in all_data.items():\n",
        "    if not df.empty:\n",
        "        table = Table(title=f\"Dados de {source.upper()}\")\n",
        "        table.add_column(\"Métrica\", style=\"cyan\")\n",
        "        table.add_column(\"Valor\", style=\"green\")\n",
        "\n",
        "        table.add_row(\"Total de Registros\", str(len(df)))\n",
        "        table.add_row(\"Colunas\", str(list(df.columns)[:5]))\n",
        "        table.add_row(\"Primeira Linha\", str(df.iloc[0].to_dict())[:100] + \"...\")\n",
        "\n",
        "        console.print(table)\n",
        "        console.print()"
      ]
    },
    {
      "cell_type": "markdown",
      "metadata": {
        "id": "4kAw3QE1DO1v"
      },
      "source": [
        "## 💾 Parte 3: Carregando Dados no DuckDB (Data Warehouse)"
      ]
    },
    {
      "cell_type": "code",
      "execution_count": null,
      "metadata": {
        "colab": {
          "base_uri": "https://localhost:8080/",
          "height": 170
        },
        "id": "oLa7Hp6jDO1x",
        "outputId": "d3daaa4b-9ae8-4ddd-d37d-3ba61b52b8ca"
      },
      "outputs": [
        {
          "output_type": "display_data",
          "data": {
            "text/plain": [
              "\n",
              "🦆 \u001b[1;33mCRIANDO DATA WAREHOUSE NO DUCKDB\u001b[0m\n",
              "\n"
            ],
            "text/html": [
              "<pre style=\"white-space:pre;overflow-x:auto;line-height:normal;font-family:Menlo,'DejaVu Sans Mono',consolas,'Courier New',monospace\">\n",
              "🦆 <span style=\"color: #808000; text-decoration-color: #808000; font-weight: bold\">CRIANDO DATA WAREHOUSE NO DUCKDB</span>\n",
              "\n",
              "</pre>\n"
            ]
          },
          "metadata": {}
        },
        {
          "output_type": "display_data",
          "data": {
            "text/plain": [
              "✅ Tabela \u001b[36mbronze.raw_github\u001b[0m criada com \u001b[1;32m10\u001b[0m registros\n"
            ],
            "text/html": [
              "<pre style=\"white-space:pre;overflow-x:auto;line-height:normal;font-family:Menlo,'DejaVu Sans Mono',consolas,'Courier New',monospace\">✅ Tabela <span style=\"color: #008080; text-decoration-color: #008080\">bronze.raw_github</span> criada com <span style=\"color: #008000; text-decoration-color: #008000; font-weight: bold\">10</span> registros\n",
              "</pre>\n"
            ]
          },
          "metadata": {}
        },
        {
          "output_type": "display_data",
          "data": {
            "text/plain": [
              "✅ Tabela \u001b[36mbronze.raw_exchange\u001b[0m criada com \u001b[1;32m165\u001b[0m registros\n"
            ],
            "text/html": [
              "<pre style=\"white-space:pre;overflow-x:auto;line-height:normal;font-family:Menlo,'DejaVu Sans Mono',consolas,'Courier New',monospace\">✅ Tabela <span style=\"color: #008080; text-decoration-color: #008080\">bronze.raw_exchange</span> criada com <span style=\"color: #008000; text-decoration-color: #008000; font-weight: bold\">165</span> registros\n",
              "</pre>\n"
            ]
          },
          "metadata": {}
        },
        {
          "output_type": "display_data",
          "data": {
            "text/plain": [
              "✅ Tabela \u001b[36mbronze.raw_posts\u001b[0m criada com \u001b[1;32m10\u001b[0m registros\n"
            ],
            "text/html": [
              "<pre style=\"white-space:pre;overflow-x:auto;line-height:normal;font-family:Menlo,'DejaVu Sans Mono',consolas,'Courier New',monospace\">✅ Tabela <span style=\"color: #008080; text-decoration-color: #008080\">bronze.raw_posts</span> criada com <span style=\"color: #008000; text-decoration-color: #008000; font-weight: bold\">10</span> registros\n",
              "</pre>\n"
            ]
          },
          "metadata": {}
        },
        {
          "output_type": "display_data",
          "data": {
            "text/plain": [
              "\n",
              "📋 \u001b[1mTabelas no Data Warehouse:\u001b[0m\n"
            ],
            "text/html": [
              "<pre style=\"white-space:pre;overflow-x:auto;line-height:normal;font-family:Menlo,'DejaVu Sans Mono',consolas,'Courier New',monospace\">\n",
              "📋 <span style=\"font-weight: bold\">Tabelas no Data Warehouse:</span>\n",
              "</pre>\n"
            ]
          },
          "metadata": {}
        },
        {
          "output_type": "display_data",
          "data": {
            "text/plain": [
              "  📁 bronze.raw_exchange: \u001b[1;36m165\u001b[0m registros\n"
            ],
            "text/html": [
              "<pre style=\"white-space:pre;overflow-x:auto;line-height:normal;font-family:Menlo,'DejaVu Sans Mono',consolas,'Courier New',monospace\">  📁 bronze.raw_exchange: <span style=\"color: #008080; text-decoration-color: #008080; font-weight: bold\">165</span> registros\n",
              "</pre>\n"
            ]
          },
          "metadata": {}
        },
        {
          "output_type": "display_data",
          "data": {
            "text/plain": [
              "  📁 bronze.raw_github: \u001b[1;36m10\u001b[0m registros\n"
            ],
            "text/html": [
              "<pre style=\"white-space:pre;overflow-x:auto;line-height:normal;font-family:Menlo,'DejaVu Sans Mono',consolas,'Courier New',monospace\">  📁 bronze.raw_github: <span style=\"color: #008080; text-decoration-color: #008080; font-weight: bold\">10</span> registros\n",
              "</pre>\n"
            ]
          },
          "metadata": {}
        },
        {
          "output_type": "display_data",
          "data": {
            "text/plain": [
              "  📁 bronze.raw_posts: \u001b[1;36m10\u001b[0m registros\n"
            ],
            "text/html": [
              "<pre style=\"white-space:pre;overflow-x:auto;line-height:normal;font-family:Menlo,'DejaVu Sans Mono',consolas,'Courier New',monospace\">  📁 bronze.raw_posts: <span style=\"color: #008080; text-decoration-color: #008080; font-weight: bold\">10</span> registros\n",
              "</pre>\n"
            ]
          },
          "metadata": {}
        }
      ],
      "source": [
        "# Conecta ao DuckDB e cria o Data Warehouse\n",
        "console.print(\"\\n🦆 [bold yellow]CRIANDO DATA WAREHOUSE NO DUCKDB[/bold yellow]\\n\")\n",
        "\n",
        "# Conecta ao DuckDB\n",
        "conn = duckdb.connect('/content/data_pipeline/warehouse.duckdb')\n",
        "\n",
        "# Cria schema para dados brutos (Bronze Layer)\n",
        "conn.execute(\"CREATE SCHEMA IF NOT EXISTS bronze\")\n",
        "conn.execute(\"CREATE SCHEMA IF NOT EXISTS silver\")\n",
        "conn.execute(\"CREATE SCHEMA IF NOT EXISTS gold\")\n",
        "\n",
        "# Carrega cada DataFrame no DuckDB\n",
        "for source, df in all_data.items():\n",
        "    if not df.empty:\n",
        "        # Salva no Bronze (dados brutos)\n",
        "        table_name = f\"bronze.raw_{source}\"\n",
        "        conn.execute(f\"CREATE OR REPLACE TABLE {table_name} AS SELECT * FROM df\")\n",
        "\n",
        "        # Verifica se foi criado\n",
        "        count = conn.execute(f\"SELECT COUNT(*) FROM {table_name}\").fetchone()[0]\n",
        "        console.print(f\"✅ Tabela [cyan]{table_name}[/cyan] criada com [green]{count}[/green] registros\")\n",
        "\n",
        "# Mostra as tabelas criadas\n",
        "console.print(\"\\n📋 [bold]Tabelas no Data Warehouse:[/bold]\")\n",
        "tables = conn.execute(\"\"\"\n",
        "    SELECT table_schema, table_name\n",
        "    FROM information_schema.tables\n",
        "    WHERE table_schema IN ('bronze', 'silver', 'gold')\n",
        "    ORDER BY table_schema, table_name\n",
        "\"\"\").fetchall()\n",
        "\n",
        "for schema, table in tables:\n",
        "    row_count = conn.execute(f\"SELECT COUNT(*) FROM {schema}.{table}\").fetchone()[0]\n",
        "    console.print(f\"  📁 {schema}.{table}: {row_count} registros\")\n",
        "\n",
        "# Fecha a conexão\n",
        "conn.close()"
      ]
    },
    {
      "cell_type": "markdown",
      "metadata": {
        "id": "79_qb58xDO12"
      },
      "source": [
        "## 🔄 Parte 4: Configurando e Executando DBT"
      ]
    },
    {
      "cell_type": "code",
      "execution_count": null,
      "metadata": {
        "colab": {
          "base_uri": "https://localhost:8080/",
          "height": 68
        },
        "id": "dQG43K7xDO13",
        "outputId": "85bf1eec-133f-4f64-9ec1-b729f981a8ad"
      },
      "outputs": [
        {
          "output_type": "display_data",
          "data": {
            "text/plain": [
              "\u001b[1;32m╭─────────────────────────────╮\u001b[0m\n",
              "\u001b[1;32m│\u001b[0m\u001b[1;32m \u001b[0m\u001b[1;32m✅ Configuração DBT criada!\u001b[0m\u001b[1;32m \u001b[0m\u001b[1;32m│\u001b[0m\n",
              "\u001b[1;32m╰─────────────────────────────╯\u001b[0m\n"
            ],
            "text/html": [
              "<pre style=\"white-space:pre;overflow-x:auto;line-height:normal;font-family:Menlo,'DejaVu Sans Mono',consolas,'Courier New',monospace\"><span style=\"color: #008000; text-decoration-color: #008000; font-weight: bold\">╭─────────────────────────────╮</span>\n",
              "<span style=\"color: #008000; text-decoration-color: #008000; font-weight: bold\">│ ✅ Configuração DBT criada! │</span>\n",
              "<span style=\"color: #008000; text-decoration-color: #008000; font-weight: bold\">╰─────────────────────────────╯</span>\n",
              "</pre>\n"
            ]
          },
          "metadata": {}
        }
      ],
      "source": [
        "# Cria arquivo de configuração do DBT\n",
        "dbt_project_yml = \"\"\"\n",
        "name: 'data_pipeline'\n",
        "version: '1.0.0'\n",
        "config-version: 2\n",
        "\n",
        "profile: 'data_pipeline'\n",
        "\n",
        "model-paths: [\"models\"]\n",
        "analysis-paths: [\"analyses\"]\n",
        "test-paths: [\"tests\"]\n",
        "seed-paths: [\"seeds\"]\n",
        "macro-paths: [\"macros\"]\n",
        "\n",
        "target-path: \"target\"\n",
        "clean-targets:\n",
        "  - \"target\"\n",
        "  - \"dbt_packages\"\n",
        "\n",
        "models:\n",
        "  data_pipeline:\n",
        "    staging:\n",
        "      +materialized: view\n",
        "      +schema: silver\n",
        "    marts:\n",
        "      +materialized: table\n",
        "      +schema: gold\n",
        "\"\"\"\n",
        "\n",
        "with open('/content/data_pipeline/dbt_project/dbt_project.yml', 'w') as f:\n",
        "    f.write(dbt_project_yml)\n",
        "\n",
        "# Cria profiles.yml\n",
        "profiles_yml = \"\"\"\n",
        "data_pipeline:\n",
        "  target: dev\n",
        "  outputs:\n",
        "    dev:\n",
        "      type: duckdb\n",
        "      path: /content/data_pipeline/warehouse.duckdb\n",
        "      threads: 4\n",
        "\"\"\"\n",
        "\n",
        "with open('/content/data_pipeline/dbt_project/profiles.yml', 'w') as f:\n",
        "    f.write(profiles_yml)\n",
        "\n",
        "console.print(Panel.fit(\"✅ Configuração DBT criada!\", style=\"bold green\"))"
      ]
    },
    {
      "cell_type": "code",
      "execution_count": null,
      "metadata": {
        "colab": {
          "base_uri": "https://localhost:8080/",
          "height": 68
        },
        "id": "i0Fr82hKDO15",
        "outputId": "edfe3fcc-ce10-482c-83b4-254e75563fcc"
      },
      "outputs": [
        {
          "output_type": "display_data",
          "data": {
            "text/plain": [
              "\u001b[1;32m╭──────────────────────────────────────╮\u001b[0m\n",
              "\u001b[1;32m│\u001b[0m\u001b[1;32m \u001b[0m\u001b[1;32m✅ Modelos Staging (Silver) criados!\u001b[0m\u001b[1;32m \u001b[0m\u001b[1;32m│\u001b[0m\n",
              "\u001b[1;32m╰──────────────────────────────────────╯\u001b[0m\n"
            ],
            "text/html": [
              "<pre style=\"white-space:pre;overflow-x:auto;line-height:normal;font-family:Menlo,'DejaVu Sans Mono',consolas,'Courier New',monospace\"><span style=\"color: #008000; text-decoration-color: #008000; font-weight: bold\">╭──────────────────────────────────────╮</span>\n",
              "<span style=\"color: #008000; text-decoration-color: #008000; font-weight: bold\">│ ✅ Modelos Staging (Silver) criados! │</span>\n",
              "<span style=\"color: #008000; text-decoration-color: #008000; font-weight: bold\">╰──────────────────────────────────────╯</span>\n",
              "</pre>\n"
            ]
          },
          "metadata": {}
        }
      ],
      "source": [
        "# Cria modelos DBT - Staging (Silver Layer)\n",
        "\n",
        "# Modelo para GitHub\n",
        "github_staging = \"\"\"\n",
        "{{ config(materialized='view') }}\n",
        "\n",
        "WITH github_data AS (\n",
        "    SELECT\n",
        "        repo_name,\n",
        "        owner,\n",
        "        stars,\n",
        "        forks,\n",
        "        open_issues,\n",
        "        language,\n",
        "        CAST(created_at AS TIMESTAMP) as created_at,\n",
        "        CAST(updated_at AS TIMESTAMP) as updated_at,\n",
        "        description,\n",
        "        url,\n",
        "        CAST(collected_at AS TIMESTAMP) as collected_at,\n",
        "        -- Adiciona validações\n",
        "        CASE\n",
        "            WHEN stars < 0 THEN FALSE\n",
        "            WHEN forks < 0 THEN FALSE\n",
        "            ELSE TRUE\n",
        "        END as is_valid,\n",
        "        -- Calcula métricas derivadas\n",
        "        CAST(stars AS FLOAT) / NULLIF(forks, 0) as star_fork_ratio,\n",
        "        CURRENT_TIMESTAMP as processed_at\n",
        "    FROM {{ source('bronze', 'raw_github') }}\n",
        ")\n",
        "\n",
        "SELECT * FROM github_data\n",
        "WHERE is_valid = TRUE\n",
        "\"\"\"\n",
        "\n",
        "with open('/content/data_pipeline/dbt_project/models/staging/stg_github_repos.sql', 'w') as f:\n",
        "    f.write(github_staging)\n",
        "\n",
        "# Modelo para Exchange Rates\n",
        "exchange_staging = \"\"\"\n",
        "{{ config(materialized='view') }}\n",
        "\n",
        "WITH exchange_data AS (\n",
        "    SELECT\n",
        "        base_currency,\n",
        "        target_currency,\n",
        "        exchange_rate,\n",
        "        CAST(date AS DATE) as exchange_date,\n",
        "        CAST(collected_at AS TIMESTAMP) as collected_at,\n",
        "        -- Adiciona categorização\n",
        "        CASE\n",
        "            WHEN target_currency IN ('EUR', 'GBP', 'JPY', 'CNY') THEN 'Major'\n",
        "            WHEN target_currency IN ('BRL', 'MXN', 'ARS', 'CLP') THEN 'LatAm'\n",
        "            ELSE 'Other'\n",
        "        END as currency_category,\n",
        "        -- Calcula inverso\n",
        "        1.0 / NULLIF(exchange_rate, 0) as inverse_rate,\n",
        "        CURRENT_TIMESTAMP as processed_at\n",
        "    FROM {{ source('bronze', 'raw_exchange') }}\n",
        ")\n",
        "\n",
        "SELECT * FROM exchange_data\n",
        "WHERE exchange_rate > 0\n",
        "\"\"\"\n",
        "\n",
        "with open('/content/data_pipeline/dbt_project/models/staging/stg_exchange_rates.sql', 'w') as f:\n",
        "    f.write(exchange_staging)\n",
        "\n",
        "# Modelo para Posts\n",
        "posts_staging = \"\"\"\n",
        "{{ config(materialized='view') }}\n",
        "\n",
        "WITH posts_data AS (\n",
        "    SELECT\n",
        "        post_id,\n",
        "        user_id,\n",
        "        title,\n",
        "        body,\n",
        "        comment_count,\n",
        "        CAST(collected_at AS TIMESTAMP) as collected_at,\n",
        "        -- Métricas de engajamento\n",
        "        LENGTH(title) as title_length,\n",
        "        LENGTH(body) as body_length,\n",
        "        CASE\n",
        "            WHEN comment_count > 10 THEN 'High'\n",
        "            WHEN comment_count > 5 THEN 'Medium'\n",
        "            ELSE 'Low'\n",
        "        END as engagement_level,\n",
        "        CURRENT_TIMESTAMP as processed_at\n",
        "    FROM {{ source('bronze', 'raw_posts') }}\n",
        ")\n",
        "\n",
        "SELECT * FROM posts_data\n",
        "\"\"\"\n",
        "\n",
        "with open('/content/data_pipeline/dbt_project/models/staging/stg_posts.sql', 'w') as f:\n",
        "    f.write(posts_staging)\n",
        "\n",
        "console.print(Panel.fit(\"✅ Modelos Staging (Silver) criados!\", style=\"bold green\"))"
      ]
    },
    {
      "cell_type": "code",
      "execution_count": null,
      "metadata": {
        "colab": {
          "base_uri": "https://localhost:8080/",
          "height": 68
        },
        "id": "cP97tGjaDO16",
        "outputId": "e8993248-808a-4ee3-cdba-1fa24a2bf174"
      },
      "outputs": [
        {
          "output_type": "display_data",
          "data": {
            "text/plain": [
              "\u001b[1;32m╭──────────────────────────────────╮\u001b[0m\n",
              "\u001b[1;32m│\u001b[0m\u001b[1;32m \u001b[0m\u001b[1;32m✅ Modelos Marts (Gold) criados!\u001b[0m\u001b[1;32m \u001b[0m\u001b[1;32m│\u001b[0m\n",
              "\u001b[1;32m╰──────────────────────────────────╯\u001b[0m\n"
            ],
            "text/html": [
              "<pre style=\"white-space:pre;overflow-x:auto;line-height:normal;font-family:Menlo,'DejaVu Sans Mono',consolas,'Courier New',monospace\"><span style=\"color: #008000; text-decoration-color: #008000; font-weight: bold\">╭──────────────────────────────────╮</span>\n",
              "<span style=\"color: #008000; text-decoration-color: #008000; font-weight: bold\">│ ✅ Modelos Marts (Gold) criados! │</span>\n",
              "<span style=\"color: #008000; text-decoration-color: #008000; font-weight: bold\">╰──────────────────────────────────╯</span>\n",
              "</pre>\n"
            ]
          },
          "metadata": {}
        }
      ],
      "source": [
        "# Cria modelos DBT - Marts (Gold Layer)\n",
        "\n",
        "# Análise de Repositórios\n",
        "repo_analytics = \"\"\"\n",
        "{{ config(materialized='table') }}\n",
        "\n",
        "WITH repo_metrics AS (\n",
        "    SELECT\n",
        "        language,\n",
        "        COUNT(*) as repo_count,\n",
        "        AVG(stars) as avg_stars,\n",
        "        MAX(stars) as max_stars,\n",
        "        MIN(stars) as min_stars,\n",
        "        AVG(forks) as avg_forks,\n",
        "        AVG(open_issues) as avg_open_issues,\n",
        "        AVG(star_fork_ratio) as avg_star_fork_ratio,\n",
        "        PERCENTILE_CONT(0.5) WITHIN GROUP (ORDER BY stars) as median_stars\n",
        "    FROM {{ ref('stg_github_repos') }}\n",
        "    GROUP BY language\n",
        "),\n",
        "language_ranking AS (\n",
        "    SELECT\n",
        "        *,\n",
        "        RANK() OVER (ORDER BY avg_stars DESC) as popularity_rank\n",
        "    FROM repo_metrics\n",
        ")\n",
        "\n",
        "SELECT\n",
        "    *,\n",
        "    CASE\n",
        "        WHEN popularity_rank <= 3 THEN 'Top Tier'\n",
        "        WHEN popularity_rank <= 10 THEN 'High Tier'\n",
        "        ELSE 'Standard Tier'\n",
        "    END as tier_classification\n",
        "FROM language_ranking\n",
        "ORDER BY popularity_rank\n",
        "\"\"\"\n",
        "\n",
        "with open('/content/data_pipeline/dbt_project/models/marts/repo_language_analytics.sql', 'w') as f:\n",
        "    f.write(repo_analytics)\n",
        "\n",
        "# Dashboard de Câmbio\n",
        "exchange_dashboard = \"\"\"\n",
        "{{ config(materialized='table') }}\n",
        "\n",
        "WITH currency_summary AS (\n",
        "    SELECT\n",
        "        currency_category,\n",
        "        COUNT(DISTINCT target_currency) as currency_count,\n",
        "        AVG(exchange_rate) as avg_rate,\n",
        "        MIN(exchange_rate) as min_rate,\n",
        "        MAX(exchange_rate) as max_rate,\n",
        "        STDDEV(exchange_rate) as rate_volatility\n",
        "    FROM {{ ref('stg_exchange_rates') }}\n",
        "    GROUP BY currency_category\n",
        "),\n",
        "top_currencies AS (\n",
        "    SELECT\n",
        "        target_currency,\n",
        "        exchange_rate,\n",
        "        inverse_rate,\n",
        "        currency_category\n",
        "    FROM {{ ref('stg_exchange_rates') }}\n",
        "    WHERE target_currency IN ('EUR', 'GBP', 'BRL', 'JPY', 'CNY')\n",
        ")\n",
        "\n",
        "SELECT\n",
        "    cs.*,\n",
        "    CURRENT_TIMESTAMP as dashboard_updated_at\n",
        "FROM currency_summary cs\n",
        "ORDER BY currency_count DESC\n",
        "\"\"\"\n",
        "\n",
        "with open('/content/data_pipeline/dbt_project/models/marts/exchange_dashboard.sql', 'w') as f:\n",
        "    f.write(exchange_dashboard)\n",
        "\n",
        "# Análise de Engajamento\n",
        "engagement_analysis = \"\"\"\n",
        "{{ config(materialized='table') }}\n",
        "\n",
        "WITH user_metrics AS (\n",
        "    SELECT\n",
        "        user_id,\n",
        "        COUNT(*) as post_count,\n",
        "        AVG(comment_count) as avg_comments,\n",
        "        SUM(comment_count) as total_comments,\n",
        "        AVG(title_length) as avg_title_length,\n",
        "        AVG(body_length) as avg_body_length\n",
        "    FROM {{ ref('stg_posts') }}\n",
        "    GROUP BY user_id\n",
        "),\n",
        "user_classification AS (\n",
        "    SELECT\n",
        "        *,\n",
        "        CASE\n",
        "            WHEN total_comments > 50 THEN 'Power User'\n",
        "            WHEN total_comments > 20 THEN 'Active User'\n",
        "            ELSE 'Regular User'\n",
        "        END as user_type,\n",
        "        RANK() OVER (ORDER BY total_comments DESC) as engagement_rank\n",
        "    FROM user_metrics\n",
        ")\n",
        "\n",
        "SELECT * FROM user_classification\n",
        "ORDER BY engagement_rank\n",
        "\"\"\"\n",
        "\n",
        "with open('/content/data_pipeline/dbt_project/models/marts/engagement_analysis.sql', 'w') as f:\n",
        "    f.write(engagement_analysis)\n",
        "\n",
        "console.print(Panel.fit(\"✅ Modelos Marts (Gold) criados!\", style=\"bold green\"))"
      ]
    },
    {
      "cell_type": "code",
      "execution_count": null,
      "metadata": {
        "colab": {
          "base_uri": "https://localhost:8080/",
          "height": 68
        },
        "id": "V3fMLp7kDO17",
        "outputId": "6d9d8f36-5c96-4624-e853-41013690bab1"
      },
      "outputs": [
        {
          "output_type": "display_data",
          "data": {
            "text/plain": [
              "\u001b[1;32m╭──────────────────────────────────────╮\u001b[0m\n",
              "\u001b[1;32m│\u001b[0m\u001b[1;32m \u001b[0m\u001b[1;32m✅ Schema e testes DBT configurados!\u001b[0m\u001b[1;32m \u001b[0m\u001b[1;32m│\u001b[0m\n",
              "\u001b[1;32m╰──────────────────────────────────────╯\u001b[0m\n"
            ],
            "text/html": [
              "<pre style=\"white-space:pre;overflow-x:auto;line-height:normal;font-family:Menlo,'DejaVu Sans Mono',consolas,'Courier New',monospace\"><span style=\"color: #008000; text-decoration-color: #008000; font-weight: bold\">╭──────────────────────────────────────╮</span>\n",
              "<span style=\"color: #008000; text-decoration-color: #008000; font-weight: bold\">│ ✅ Schema e testes DBT configurados! │</span>\n",
              "<span style=\"color: #008000; text-decoration-color: #008000; font-weight: bold\">╰──────────────────────────────────────╯</span>\n",
              "</pre>\n"
            ]
          },
          "metadata": {}
        }
      ],
      "source": [
        "# Cria arquivo schema.yml para documentação e testes\n",
        "schema_yml = \"\"\"\n",
        "version: 2\n",
        "\n",
        "sources:\n",
        "  - name: bronze\n",
        "    description: \"Camada Bronze - Dados brutos\"\n",
        "    database: warehouse\n",
        "    schema: bronze\n",
        "    tables:\n",
        "      - name: raw_github\n",
        "        description: \"Repositórios do GitHub\"\n",
        "      - name: raw_exchange\n",
        "        description: \"Taxas de câmbio\"\n",
        "      - name: raw_posts\n",
        "        description: \"Posts e comentários\"\n",
        "\n",
        "models:\n",
        "  - name: stg_github_repos\n",
        "    description: \"Repositórios GitHub validados e enriquecidos\"\n",
        "    columns:\n",
        "      - name: repo_name\n",
        "        tests:\n",
        "          - not_null\n",
        "      - name: stars\n",
        "        tests:\n",
        "          - not_null\n",
        "\n",
        "  - name: stg_exchange_rates\n",
        "    description: \"Taxas de câmbio processadas\"\n",
        "    columns:\n",
        "      - name: exchange_rate\n",
        "        tests:\n",
        "          - not_null\n",
        "\n",
        "  - name: repo_language_analytics\n",
        "    description: \"Análise agregada por linguagem de programação\"\n",
        "    tests:\n",
        "      - unique:\n",
        "          column_name: language\n",
        "\"\"\"\n",
        "\n",
        "with open('/content/data_pipeline/dbt_project/models/schema.yml', 'w') as f:\n",
        "    f.write(schema_yml)\n",
        "\n",
        "console.print(Panel.fit(\"✅ Schema e testes DBT configurados!\", style=\"bold green\"))"
      ]
    },
    {
      "cell_type": "code",
      "execution_count": null,
      "metadata": {
        "colab": {
          "base_uri": "https://localhost:8080/",
          "height": 505
        },
        "id": "4L1MWASeDO18",
        "outputId": "fe8d5b50-88bc-4fca-ce98-7357e51af58b"
      },
      "outputs": [
        {
          "output_type": "display_data",
          "data": {
            "text/plain": [
              "\n",
              "🚀 \u001b[1;33mEXECUTANDO DBT RUN\u001b[0m\n",
              "\n"
            ],
            "text/html": [
              "<pre style=\"white-space:pre;overflow-x:auto;line-height:normal;font-family:Menlo,'DejaVu Sans Mono',consolas,'Courier New',monospace\">\n",
              "🚀 <span style=\"color: #808000; text-decoration-color: #808000; font-weight: bold\">EXECUTANDO DBT RUN</span>\n",
              "\n",
              "</pre>\n"
            ]
          },
          "metadata": {}
        },
        {
          "output_type": "stream",
          "name": "stdout",
          "text": [
            "\u001b[0m22:22:54  Running with dbt=1.10.13\n",
            "\u001b[0m22:22:55  Registered adapter: duckdb=1.9.6\n",
            "\u001b[0m22:22:55  Found 6 models, 4 data tests, 3 sources, 444 macros\n",
            "\u001b[0m22:22:55  \n",
            "\u001b[0m22:22:55  Concurrency: 4 threads (target='dev')\n",
            "\u001b[0m22:22:55  \n",
            "\u001b[0m22:22:56  1 of 6 START sql view model main_silver.stg_exchange_rates ..................... [RUN]\n",
            "\u001b[0m22:22:56  2 of 6 START sql view model main_silver.stg_github_repos ....................... [RUN]\n",
            "\u001b[0m22:22:56  3 of 6 START sql view model main_silver.stg_posts .............................. [RUN]\n",
            "\u001b[0m22:22:56  2 of 6 OK created sql view model main_silver.stg_github_repos .................. [\u001b[32mOK\u001b[0m in 0.18s]\n",
            "\u001b[0m22:22:56  1 of 6 OK created sql view model main_silver.stg_exchange_rates ................ [\u001b[32mOK\u001b[0m in 0.19s]\n",
            "\u001b[0m22:22:56  3 of 6 OK created sql view model main_silver.stg_posts ......................... [\u001b[32mOK\u001b[0m in 0.18s]\n",
            "\u001b[0m22:22:56  4 of 6 START sql table model main_gold.repo_language_analytics ................. [RUN]\n",
            "\u001b[0m22:22:56  5 of 6 START sql table model main_gold.exchange_dashboard ...................... [RUN]\n",
            "\u001b[0m22:22:56  6 of 6 START sql table model main_gold.engagement_analysis ..................... [RUN]\n",
            "\u001b[0m22:22:56  6 of 6 OK created sql table model main_gold.engagement_analysis ................ [\u001b[32mOK\u001b[0m in 0.13s]\n",
            "\u001b[0m22:22:56  4 of 6 OK created sql table model main_gold.repo_language_analytics ............ [\u001b[32mOK\u001b[0m in 0.15s]\n",
            "\u001b[0m22:22:56  5 of 6 OK created sql table model main_gold.exchange_dashboard ................. [\u001b[32mOK\u001b[0m in 0.15s]\n",
            "\u001b[0m22:22:56  \n",
            "\u001b[0m22:22:56  Finished running 3 table models, 3 view models in 0 hours 0 minutes and 0.54 seconds (0.54s).\n",
            "\u001b[0m22:22:56  \n",
            "\u001b[0m22:22:56  \u001b[32mCompleted successfully\u001b[0m\n",
            "\u001b[0m22:22:56  \n",
            "\u001b[0m22:22:56  Done. PASS=6 WARN=0 ERROR=0 SKIP=0 NO-OP=0 TOTAL=6\n"
          ]
        },
        {
          "output_type": "display_data",
          "data": {
            "text/plain": [
              "\n",
              "✅ \u001b[1;32mDBT EXECUTADO COM SUCESSO!\u001b[0m\n"
            ],
            "text/html": [
              "<pre style=\"white-space:pre;overflow-x:auto;line-height:normal;font-family:Menlo,'DejaVu Sans Mono',consolas,'Courier New',monospace\">\n",
              "✅ <span style=\"color: #008000; text-decoration-color: #008000; font-weight: bold\">DBT EXECUTADO COM SUCESSO!</span>\n",
              "</pre>\n"
            ]
          },
          "metadata": {}
        }
      ],
      "source": [
        "# AGORA VAMOS EXECUTAR O DBT DE VERDADE!\n",
        "console.print(\"\\n🚀 [bold yellow]EXECUTANDO DBT RUN[/bold yellow]\\n\")\n",
        "\n",
        "# Fecha a conexão DuckDB antes de executar o DBT\n",
        "conn.close()\n",
        "\n",
        "# Muda para o diretório do projeto DBT\n",
        "os.chdir('/content/data_pipeline/dbt_project')\n",
        "\n",
        "# Executa dbt run\n",
        "!dbt run --profiles-dir .\n",
        "\n",
        "console.print(\"\\n✅ [bold green]DBT EXECUTADO COM SUCESSO![/bold green]\")"
      ]
    },
    {
      "cell_type": "code",
      "execution_count": null,
      "metadata": {
        "colab": {
          "base_uri": "https://localhost:8080/",
          "height": 435
        },
        "id": "WPnudxWwDO19",
        "outputId": "921473f5-8398-4582-f0db-870f25fb6fe0"
      },
      "outputs": [
        {
          "output_type": "display_data",
          "data": {
            "text/plain": [
              "\n",
              "🧪 \u001b[1;33mEXECUTANDO TESTES DBT\u001b[0m\n",
              "\n"
            ],
            "text/html": [
              "<pre style=\"white-space:pre;overflow-x:auto;line-height:normal;font-family:Menlo,'DejaVu Sans Mono',consolas,'Courier New',monospace\">\n",
              "🧪 <span style=\"color: #808000; text-decoration-color: #808000; font-weight: bold\">EXECUTANDO TESTES DBT</span>\n",
              "\n",
              "</pre>\n"
            ]
          },
          "metadata": {}
        },
        {
          "output_type": "stream",
          "name": "stdout",
          "text": [
            "\u001b[0m22:23:00  Running with dbt=1.10.13\n",
            "\u001b[0m22:23:00  Registered adapter: duckdb=1.9.6\n",
            "\u001b[0m22:23:01  Found 6 models, 4 data tests, 3 sources, 444 macros\n",
            "\u001b[0m22:23:01  \n",
            "\u001b[0m22:23:01  Concurrency: 4 threads (target='dev')\n",
            "\u001b[0m22:23:01  \n",
            "\u001b[0m22:23:01  1 of 4 START test not_null_stg_exchange_rates_exchange_rate .................... [RUN]\n",
            "\u001b[0m22:23:01  2 of 4 START test not_null_stg_github_repos_repo_name .......................... [RUN]\n",
            "\u001b[0m22:23:01  3 of 4 START test not_null_stg_github_repos_stars .............................. [RUN]\n",
            "\u001b[0m22:23:01  4 of 4 START test unique_repo_language_analytics_language ...................... [RUN]\n",
            "\u001b[0m22:23:01  3 of 4 PASS not_null_stg_github_repos_stars .................................... [\u001b[32mPASS\u001b[0m in 0.12s]\n",
            "\u001b[0m22:23:01  1 of 4 PASS not_null_stg_exchange_rates_exchange_rate .......................... [\u001b[32mPASS\u001b[0m in 0.12s]\n",
            "\u001b[0m22:23:01  2 of 4 PASS not_null_stg_github_repos_repo_name ................................ [\u001b[32mPASS\u001b[0m in 0.13s]\n",
            "\u001b[0m22:23:01  4 of 4 PASS unique_repo_language_analytics_language ............................ [\u001b[32mPASS\u001b[0m in 0.12s]\n",
            "\u001b[0m22:23:01  \n",
            "\u001b[0m22:23:01  Finished running 4 data tests in 0 hours 0 minutes and 0.24 seconds (0.24s).\n",
            "\u001b[0m22:23:01  \n",
            "\u001b[0m22:23:01  \u001b[32mCompleted successfully\u001b[0m\n",
            "\u001b[0m22:23:01  \n",
            "\u001b[0m22:23:01  Done. PASS=4 WARN=0 ERROR=0 SKIP=0 NO-OP=0 TOTAL=4\n"
          ]
        },
        {
          "output_type": "display_data",
          "data": {
            "text/plain": [
              "\n",
              "✅ \u001b[1;32mTESTES DBT CONCLUÍDOS!\u001b[0m\n"
            ],
            "text/html": [
              "<pre style=\"white-space:pre;overflow-x:auto;line-height:normal;font-family:Menlo,'DejaVu Sans Mono',consolas,'Courier New',monospace\">\n",
              "✅ <span style=\"color: #008000; text-decoration-color: #008000; font-weight: bold\">TESTES DBT CONCLUÍDOS!</span>\n",
              "</pre>\n"
            ]
          },
          "metadata": {}
        }
      ],
      "source": [
        "# Executa testes DBT\n",
        "console.print(\"\\n🧪 [bold yellow]EXECUTANDO TESTES DBT[/bold yellow]\\n\")\n",
        "\n",
        "# Fecha a conexão DuckDB antes de executar o DBT test (redundante, mas seguro)\n",
        "conn.close()\n",
        "\n",
        "\n",
        "!dbt test --profiles-dir .\n",
        "\n",
        "console.print(\"\\n✅ [bold green]TESTES DBT CONCLUÍDOS![/bold green]\")"
      ]
    },
    {
      "cell_type": "markdown",
      "metadata": {
        "id": "mc_LCWIBDO1-"
      },
      "source": [
        "## 📊 Parte 5: Visualizando os Resultados do Pipeline"
      ]
    },
    {
      "cell_type": "code",
      "execution_count": null,
      "metadata": {
        "colab": {
          "base_uri": "https://localhost:8080/",
          "height": 241
        },
        "id": "m94HERr4DO1_",
        "outputId": "0252d945-abf9-4976-d17d-59dd4b6483bd"
      },
      "outputs": [
        {
          "output_type": "display_data",
          "data": {
            "text/plain": [
              "\n",
              "📈 \u001b[1;36mRESULTADOS DO PIPELINE DE DADOS\u001b[0m\n",
              "\n"
            ],
            "text/html": [
              "<pre style=\"white-space:pre;overflow-x:auto;line-height:normal;font-family:Menlo,'DejaVu Sans Mono',consolas,'Courier New',monospace\">\n",
              "📈 <span style=\"color: #008080; text-decoration-color: #008080; font-weight: bold\">RESULTADOS DO PIPELINE DE DADOS</span>\n",
              "\n",
              "</pre>\n"
            ]
          },
          "metadata": {}
        },
        {
          "output_type": "display_data",
          "data": {
            "text/plain": [
              "\u001b[1;36m1\u001b[0m\u001b[1m️⃣ Top Linguagens de Programação por Popularidade:\u001b[0m\n"
            ],
            "text/html": [
              "<pre style=\"white-space:pre;overflow-x:auto;line-height:normal;font-family:Menlo,'DejaVu Sans Mono',consolas,'Courier New',monospace\"><span style=\"color: #008080; text-decoration-color: #008080; font-weight: bold\">1</span><span style=\"font-weight: bold\">️⃣ Top Linguagens de Programação por Popularidade:</span>\n",
              "</pre>\n"
            ]
          },
          "metadata": {}
        },
        {
          "output_type": "stream",
          "name": "stdout",
          "text": [
            "  language  repo_count  avg_stars  max_stars tier_classification\n",
            "0   Python          10   231860.0     375598            Top Tier\n"
          ]
        },
        {
          "output_type": "display_data",
          "data": {
            "text/plain": [
              "\n",
              "\u001b[1;36m2\u001b[0m\u001b[1m️⃣ Resumo de Taxas de Câmbio por Categoria:\u001b[0m\n"
            ],
            "text/html": [
              "<pre style=\"white-space:pre;overflow-x:auto;line-height:normal;font-family:Menlo,'DejaVu Sans Mono',consolas,'Courier New',monospace\">\n",
              "<span style=\"color: #008080; text-decoration-color: #008080; font-weight: bold\">2</span><span style=\"font-weight: bold\">️⃣ Resumo de Taxas de Câmbio por Categoria:</span>\n",
              "</pre>\n"
            ]
          },
          "metadata": {}
        },
        {
          "output_type": "stream",
          "name": "stdout",
          "text": [
            "  currency_category  currency_count   avg_rate  volatility\n",
            "0             Other             157  1972.9808   8655.2524\n",
            "1             LatAm               4   604.3625    715.0369\n",
            "2             Major               4    40.2843     74.8160\n"
          ]
        },
        {
          "output_type": "display_data",
          "data": {
            "text/plain": [
              "\n",
              "\u001b[1;36m3\u001b[0m\u001b[1m️⃣ Top \u001b[0m\u001b[1;36m5\u001b[0m\u001b[1m Usuários Mais Engajados:\u001b[0m\n"
            ],
            "text/html": [
              "<pre style=\"white-space:pre;overflow-x:auto;line-height:normal;font-family:Menlo,'DejaVu Sans Mono',consolas,'Courier New',monospace\">\n",
              "<span style=\"color: #008080; text-decoration-color: #008080; font-weight: bold\">3</span><span style=\"font-weight: bold\">️⃣ Top </span><span style=\"color: #008080; text-decoration-color: #008080; font-weight: bold\">5</span><span style=\"font-weight: bold\"> Usuários Mais Engajados:</span>\n",
              "</pre>\n"
            ]
          },
          "metadata": {}
        },
        {
          "output_type": "stream",
          "name": "stdout",
          "text": [
            "   user_id  post_count  total_comments    user_type  engagement_rank\n",
            "0        1          10            50.0  Active User                1\n"
          ]
        }
      ],
      "source": [
        "# Volta para o diretório principal\n",
        "os.chdir('/content')\n",
        "\n",
        "# Reconecta ao DuckDB para ver os resultados\n",
        "conn = duckdb.connect('/content/data_pipeline/warehouse.duckdb')\n",
        "\n",
        "console.print(\"\\n📈 [bold cyan]RESULTADOS DO PIPELINE DE DADOS[/bold cyan]\\n\")\n",
        "\n",
        "# 1. Análise de Linguagens de Programação\n",
        "console.print(\"[bold]1️⃣ Top Linguagens de Programação por Popularidade:[/bold]\")\n",
        "lang_analysis = conn.execute(\"\"\"\n",
        "    SELECT\n",
        "        language,\n",
        "        repo_count,\n",
        "        ROUND(avg_stars, 0) as avg_stars,\n",
        "        ROUND(max_stars, 0) as max_stars,\n",
        "        tier_classification\n",
        "    FROM main_gold.repo_language_analytics\n",
        "    LIMIT 10\n",
        "\"\"\").df()\n",
        "\n",
        "print(lang_analysis.to_string())\n",
        "\n",
        "# 2. Dashboard de Câmbio\n",
        "console.print(\"\\n[bold]2️⃣ Resumo de Taxas de Câmbio por Categoria:[/bold]\")\n",
        "exchange_summary = conn.execute(\"\"\"\n",
        "    SELECT\n",
        "        currency_category,\n",
        "        currency_count,\n",
        "        ROUND(avg_rate, 4) as avg_rate,\n",
        "        ROUND(rate_volatility, 4) as volatility\n",
        "    FROM main_gold.exchange_dashboard\n",
        "    ORDER BY currency_count DESC\n",
        "\"\"\").df()\n",
        "\n",
        "print(exchange_summary.to_string())\n",
        "\n",
        "# 3. Top Usuários por Engajamento\n",
        "console.print(\"\\n[bold]3️⃣ Top 5 Usuários Mais Engajados:[/bold]\")\n",
        "top_users = conn.execute(\"\"\"\n",
        "    SELECT\n",
        "        user_id,\n",
        "        post_count,\n",
        "        total_comments,\n",
        "        user_type,\n",
        "        engagement_rank\n",
        "    FROM main_gold.engagement_analysis\n",
        "    LIMIT 5\n",
        "\"\"\").df()\n",
        "\n",
        "print(top_users.to_string())"
      ]
    },
    {
      "cell_type": "code",
      "execution_count": null,
      "metadata": {
        "colab": {
          "base_uri": "https://localhost:8080/",
          "height": 520
        },
        "id": "L-9EtvgsDO1_",
        "outputId": "d6170d5d-623a-4c30-b893-b83fb401fc33"
      },
      "outputs": [
        {
          "output_type": "display_data",
          "data": {
            "text/plain": [
              "<Figure size 1500x1000 with 4 Axes>"
            ],
            "image/png": "[encoded data removed]"
          },
          "metadata": {}
        },
        {
          "output_type": "display_data",
          "data": {
            "text/plain": [
              "\n",
              "✅ \u001b[1;32mVisualizações criadas com sucesso!\u001b[0m\n"
            ],
            "text/html": [
              "<pre style=\"white-space:pre;overflow-x:auto;line-height:normal;font-family:Menlo,'DejaVu Sans Mono',consolas,'Courier New',monospace\">\n",
              "✅ <span style=\"color: #008000; text-decoration-color: #008000; font-weight: bold\">Visualizações criadas com sucesso!</span>\n",
              "</pre>\n"
            ]
          },
          "metadata": {}
        }
      ],
      "source": [
        "# Visualização gráfica dos dados\n",
        "import matplotlib.pyplot as plt\n",
        "import seaborn as sns\n",
        "\n",
        "fig, axes = plt.subplots(2, 2, figsize=(15, 10))\n",
        "fig.suptitle('Dashboard do Pipeline de Dados', fontsize=16, fontweight='bold')\n",
        "\n",
        "# Gráfico 1: Popularidade das Linguagens\n",
        "if not lang_analysis.empty:\n",
        "    axes[0, 0].barh(lang_analysis['language'][:5], lang_analysis['avg_stars'][:5])\n",
        "    axes[0, 0].set_xlabel('Média de Stars')\n",
        "    axes[0, 0].set_title('Top 5 Linguagens por Popularidade')\n",
        "    axes[0, 0].invert_yaxis()\n",
        "\n",
        "# Gráfico 2: Distribuição de Câmbio\n",
        "if not exchange_summary.empty:\n",
        "    axes[0, 1].bar(exchange_summary['currency_category'], exchange_summary['currency_count'])\n",
        "    axes[0, 1].set_xlabel('Categoria')\n",
        "    axes[0, 1].set_ylabel('Quantidade de Moedas')\n",
        "    axes[0, 1].set_title('Moedas por Categoria')\n",
        "\n",
        "# Gráfico 3: Engajamento de Usuários\n",
        "if not top_users.empty:\n",
        "    axes[1, 0].scatter(top_users['post_count'], top_users['total_comments'],\n",
        "                      s=100, alpha=0.6, c=range(len(top_users)))\n",
        "    axes[1, 0].set_xlabel('Número de Posts')\n",
        "    axes[1, 0].set_ylabel('Total de Comentários')\n",
        "    axes[1, 0].set_title('Relação Posts vs Comentários')\n",
        "\n",
        "# Reconnect to DuckDB before querying pipeline_stats\n",
        "conn = duckdb.connect('/content/data_pipeline/warehouse.duckdb')\n",
        "\n",
        "# Gráfico 4: Estatísticas do Pipeline\n",
        "pipeline_stats = conn.execute(\"\"\"\n",
        "    SELECT 'Bronze' as layer, COUNT(*) as tables, SUM(row_count) as total_rows\n",
        "    FROM (\n",
        "        SELECT 'raw_github' as table_name, COUNT(*) as row_count FROM bronze.raw_github\n",
        "        UNION ALL\n",
        "        SELECT 'raw_exchange', COUNT(*) FROM bronze.raw_exchange\n",
        "        UNION ALL\n",
        "        SELECT 'raw_posts', COUNT(*) FROM bronze.raw_posts\n",
        "    )\n",
        "    UNION ALL\n",
        "    SELECT 'Silver' as layer, 3 as tables,\n",
        "           (SELECT COUNT(*) FROM main_silver.stg_github_repos) +\n",
        "           (SELECT COUNT(*) FROM main_silver.stg_exchange_rates) +\n",
        "           (SELECT COUNT(*) FROM main_silver.stg_posts) as total_rows\n",
        "    UNION ALL\n",
        "    SELECT 'Gold' as layer, 3 as tables,\n",
        "           (SELECT COUNT(*) FROM main_gold.repo_language_analytics) +\n",
        "           (SELECT COUNT(*) FROM main_gold.exchange_dashboard) +\n",
        "           (SELECT COUNT(*) FROM main_gold.engagement_analysis) as total_rows\n",
        "\"\"\").df()\n",
        "\n",
        "axes[1, 1].bar(pipeline_stats['layer'], pipeline_stats['total_rows'],\n",
        "               color=['#CD7F32', '#C0C0C0', '#FFD700'])  # Bronze, Silver, Gold colors\n",
        "axes[1, 1].set_xlabel('Camada')\n",
        "axes[1, 1].set_ylabel('Total de Registros')\n",
        "axes[1, 1].set_title('Volume de Dados por Camada')\n",
        "\n",
        "plt.tight_layout()\n",
        "plt.show()\n",
        "\n",
        "console.print(\"\\n✅ [bold green]Visualizações criadas com sucesso![/bold green]\")"
      ]
    },
    {
      "cell_type": "markdown",
      "metadata": {
        "id": "fR9qST7gDO1_"
      },
      "source": [
        "## 🚀 Parte 6: Criando e Executando DAG do Airflow"
      ]
    },
    {
      "cell_type": "code",
      "execution_count": null,
      "metadata": {
        "colab": {
          "base_uri": "https://localhost:8080/",
          "height": 68
        },
        "id": "7JQQtn2SDO2A",
        "outputId": "c89b3585-de03-4d69-aed2-1f1438ebc2c0"
      },
      "outputs": [
        {
          "output_type": "display_data",
          "data": {
            "text/plain": [
              "\u001b[1;32m╭───────────────────────────╮\u001b[0m\n",
              "\u001b[1;32m│\u001b[0m\u001b[1;32m \u001b[0m\u001b[1;32m✅ DAG do Airflow criada!\u001b[0m\u001b[1;32m \u001b[0m\u001b[1;32m│\u001b[0m\n",
              "\u001b[1;32m╰───────────────────────────╯\u001b[0m\n"
            ],
            "text/html": [
              "<pre style=\"white-space:pre;overflow-x:auto;line-height:normal;font-family:Menlo,'DejaVu Sans Mono',consolas,'Courier New',monospace\"><span style=\"color: #008000; text-decoration-color: #008000; font-weight: bold\">╭───────────────────────────╮</span>\n",
              "<span style=\"color: #008000; text-decoration-color: #008000; font-weight: bold\">│ ✅ DAG do Airflow criada! │</span>\n",
              "<span style=\"color: #008000; text-decoration-color: #008000; font-weight: bold\">╰───────────────────────────╯</span>\n",
              "</pre>\n"
            ]
          },
          "metadata": {}
        }
      ],
      "source": [
        "# Cria a DAG do Airflow\n",
        "dag_code = '''\n",
        "from datetime import datetime, timedelta\n",
        "from airflow import DAG\n",
        "from airflow.operators.python import PythonOperator\n",
        "from airflow.operators.bash import BashOperator\n",
        "import sys\n",
        "import os\n",
        "\n",
        "# Adiciona plugins ao path\n",
        "sys.path.append('/content/data_pipeline/plugins')\n",
        "\n",
        "default_args = {\n",
        "    'owner': 'data-team',\n",
        "    'depends_on_past': False,\n",
        "    'start_date': datetime(2024, 1, 1),\n",
        "    'email_on_failure': False,\n",
        "    'retries': 2,\n",
        "    'retry_delay': timedelta(minutes=5),\n",
        "}\n",
        "\n",
        "dag = DAG(\n",
        "    'data_pipeline_dag',\n",
        "    default_args=default_args,\n",
        "    description='Pipeline completo de dados',\n",
        "    schedule_interval='@hourly',\n",
        "    catchup=False,\n",
        ")\n",
        "\n",
        "def extract_data():\n",
        "    \"\"\"Extrai dados de todas as APIs\"\"\"\n",
        "    from data_extractor import MultiSourceDataExtractor\n",
        "    import duckdb\n",
        "\n",
        "    extractor = MultiSourceDataExtractor()\n",
        "    all_data = extractor.extract_all_sources()\n",
        "\n",
        "    # Salva no DuckDB\n",
        "    conn = duckdb.connect('/content/data_pipeline/warehouse.duckdb')\n",
        "    conn.execute(\"CREATE SCHEMA IF NOT EXISTS bronze\")\n",
        "\n",
        "    for source, df in all_data.items():\n",
        "        if not df.empty:\n",
        "            table_name = f\"bronze.raw_{source}\"\n",
        "            conn.execute(f\"CREATE OR REPLACE TABLE {table_name} AS SELECT * FROM df\")\n",
        "            print(f\"Saved {len(df)} records to {table_name}\")\n",
        "\n",
        "    conn.close()\n",
        "    return \"extraction_complete\"\n",
        "\n",
        "def validate_data():\n",
        "    \"\"\"Valida dados extraídos\"\"\"\n",
        "    import duckdb\n",
        "\n",
        "    conn = duckdb.connect('/content/data_pipeline/warehouse.duckdb')\n",
        "\n",
        "    # Validações\n",
        "    tables = ['bronze.raw_github', 'bronze.raw_exchange', 'bronze.raw_posts']\n",
        "    for table in tables:\n",
        "        count = conn.execute(f\"SELECT COUNT(*) FROM {table}\").fetchone()[0]\n",
        "        if count == 0:\n",
        "            raise ValueError(f\"Table {table} is empty!\")\n",
        "        print(f\"✓ {table}: {count} records\")\n",
        "\n",
        "    conn.close()\n",
        "    return \"validation_complete\"\n",
        "\n",
        "def generate_report():\n",
        "    \"\"\"Gera relatório do pipeline\"\"\"\n",
        "    import duckdb\n",
        "    from datetime import datetime\n",
        "\n",
        "    conn = duckdb.connect('/content/data_pipeline/warehouse.duckdb')\n",
        "\n",
        "    report = conn.execute(\"\"\"\n",
        "        SELECT\n",
        "            'GitHub' as source,\n",
        "            COUNT(*) as bronze_count,\n",
        "            (SELECT COUNT(*) FROM silver.stg_github_repos) as silver_count,\n",
        "            (SELECT COUNT(*) FROM gold.repo_language_analytics) as gold_count\n",
        "        FROM bronze.raw_github\n",
        "        UNION ALL\n",
        "        SELECT\n",
        "            'Exchange' as source,\n",
        "            COUNT(*) as bronze_count,\n",
        "            (SELECT COUNT(*) FROM silver.stg_exchange_rates) as silver_count,\n",
        "            (SELECT COUNT(*) FROM gold.exchange_dashboard) as gold_count\n",
        "        FROM bronze.raw_exchange\n",
        "        UNION ALL\n",
        "        SELECT\n",
        "            'Posts' as source,\n",
        "            COUNT(*) as bronze_count,\n",
        "            (SELECT COUNT(*) FROM silver.stg_posts) as silver_count,\n",
        "            (SELECT COUNT(*) FROM gold.engagement_analysis) as gold_count\n",
        "        FROM bronze.raw_posts\n",
        "    \"\"\").df()\n",
        "\n",
        "    # Salva relatório\n",
        "    report_path = f\"/content/data_pipeline/data/processed/pipeline_report_{datetime.now().strftime('%Y%m%d_%H%M%S')}.csv\"\n",
        "    report.to_csv(report_path, index=False)\n",
        "    print(f\"Report saved to {report_path}\")\n",
        "\n",
        "    conn.close()\n",
        "    return report_path\n",
        "\n",
        "# Define tasks\n",
        "extract_task = PythonOperator(\n",
        "    task_id='extract_data',\n",
        "    python_callable=extract_data,\n",
        "    dag=dag,\n",
        ")\n",
        "\n",
        "validate_task = PythonOperator(\n",
        "    task_id='validate_data',\n",
        "    python_callable=validate_data,\n",
        "    dag=dag,\n",
        ")\n",
        "\n",
        "dbt_run_task = BashOperator(\n",
        "    task_id='dbt_run',\n",
        "    bash_command='cd /content/data_pipeline/dbt_project && dbt run --profiles-dir .',\n",
        "    dag=dag,\n",
        ")\n",
        "\n",
        "dbt_test_task = BashOperator(\n",
        "    task_id='dbt_test',\n",
        "    bash_command='cd /content/data_pipeline/dbt_project && dbt test --profiles-dir .',\n",
        "    dag=dag,\n",
        ")\n",
        "\n",
        "report_task = PythonOperator(\n",
        "    task_id='generate_report',\n",
        "    python_callable=generate_report,\n",
        "    dag=dag,\n",
        ")\n",
        "\n",
        "# Define dependencies\n",
        "extract_task >> validate_task >> dbt_run_task >> dbt_test_task >> report_task\n",
        "'''\n",
        "\n",
        "# Salva a DAG\n",
        "with open('/content/data_pipeline/dags/data_pipeline_dag.py', 'w') as f:\n",
        "    f.write(dag_code)\n",
        "\n",
        "console.print(Panel.fit(\"✅ DAG do Airflow criada!\", style=\"bold green\"))"
      ]
    },
    {
      "cell_type": "code",
      "execution_count": null,
      "metadata": {
        "colab": {
          "base_uri": "https://localhost:8080/",
          "height": 68
        },
        "id": "oTPBOW1fDO2B",
        "outputId": "120c077e-4751-417c-b3cf-c8a719e1da62"
      },
      "outputs": [
        {
          "output_type": "display_data",
          "data": {
            "text/plain": [
              "\n",
              "🚁 \u001b[1;33mCONFIGURANDO AIRFLOW\u001b[0m\n",
              "\n"
            ],
            "text/html": [
              "<pre style=\"white-space:pre;overflow-x:auto;line-height:normal;font-family:Menlo,'DejaVu Sans Mono',consolas,'Courier New',monospace\">\n",
              "🚁 <span style=\"color: #808000; text-decoration-color: #808000; font-weight: bold\">CONFIGURANDO AIRFLOW</span>\n",
              "\n",
              "</pre>\n"
            ]
          },
          "metadata": {}
        },
        {
          "output_type": "display_data",
          "data": {
            "text/plain": [
              "✅ Airflow configurado!\n"
            ],
            "text/html": [
              "<pre style=\"white-space:pre;overflow-x:auto;line-height:normal;font-family:Menlo,'DejaVu Sans Mono',consolas,'Courier New',monospace\">✅ Airflow configurado!\n",
              "</pre>\n"
            ]
          },
          "metadata": {}
        }
      ],
      "source": [
        "# Configura e inicializa o Airflow\n",
        "console.print(\"\\n🚁 [bold yellow]CONFIGURANDO AIRFLOW[/bold yellow]\\n\")\n",
        "\n",
        "# Configura variáveis de ambiente\n",
        "os.environ['AIRFLOW_HOME'] = '/content/data_pipeline'\n",
        "os.environ['AIRFLOW__CORE__DAGS_FOLDER'] = '/content/data_pipeline/dags'\n",
        "os.environ['AIRFLOW__CORE__EXECUTOR'] = 'LocalExecutor'  # opcional\n",
        "os.environ['AIRFLOW__DATABASE__SQL_ALCHEMY_CONN'] = 'sqlite:////content/data_pipeline/airflow.db'\n",
        "os.environ['AIRFLOW__CORE__LOAD_EXAMPLES'] = 'False'\n",
        "\n",
        "# Inicializa o banco de dados do Airflow\n",
        "!airflow db init 2>/dev/null\n",
        "\n",
        "console.print(\"✅ Airflow configurado!\")"
      ]
    },
    {
      "cell_type": "code",
      "execution_count": null,
      "metadata": {
        "colab": {
          "base_uri": "https://localhost:8080/",
          "height": 139
        },
        "id": "SC8eDlqKDO2B",
        "outputId": "488754a1-50dd-4100-e7b3-ae7ef4b68abd"
      },
      "outputs": [
        {
          "output_type": "display_data",
          "data": {
            "text/plain": [
              "\n",
              "🚀 \u001b[1;33mEXECUTANDO DAG DO AIRFLOW\u001b[0m\n",
              "\n"
            ],
            "text/html": [
              "<pre style=\"white-space:pre;overflow-x:auto;line-height:normal;font-family:Menlo,'DejaVu Sans Mono',consolas,'Courier New',monospace\">\n",
              "🚀 <span style=\"color: #808000; text-decoration-color: #808000; font-weight: bold\">EXECUTANDO DAG DO AIRFLOW</span>\n",
              "\n",
              "</pre>\n"
            ]
          },
          "metadata": {}
        },
        {
          "output_type": "stream",
          "name": "stdout",
          "text": [
            "\u001b[1;33m/content/data_pipeline/dags/\u001b[0m\u001b[1;33mdata_pipeline_dag.py\u001b[0m\u001b[1;33m:\u001b[0m\u001b[1;33m21\u001b[0m\u001b[1;33m RemovedInAirflow3Warning\u001b[0m\u001b[33m: Param `schedule_interval` is deprecated and will be removed in a future release. Please use `schedule` instead.\u001b[0m\n"
          ]
        },
        {
          "output_type": "display_data",
          "data": {
            "text/plain": [
              "\n",
              "📋 DAGs disponíveis:\n"
            ],
            "text/html": [
              "<pre style=\"white-space:pre;overflow-x:auto;line-height:normal;font-family:Menlo,'DejaVu Sans Mono',consolas,'Courier New',monospace\">\n",
              "📋 DAGs disponíveis:\n",
              "</pre>\n"
            ]
          },
          "metadata": {}
        },
        {
          "output_type": "display_data",
          "data": {
            "text/plain": [
              "\n",
              "▶️ Executando DAG\u001b[33m...\u001b[0m\n"
            ],
            "text/html": [
              "<pre style=\"white-space:pre;overflow-x:auto;line-height:normal;font-family:Menlo,'DejaVu Sans Mono',consolas,'Courier New',monospace\">\n",
              "▶️ Executando DAG<span style=\"color: #808000; text-decoration-color: #808000\">...</span>\n",
              "</pre>\n"
            ]
          },
          "metadata": {}
        },
        {
          "output_type": "display_data",
          "data": {
            "text/plain": [
              "\n",
              "✅ \u001b[1;32mDAG EXECUTADA COM SUCESSO!\u001b[0m\n"
            ],
            "text/html": [
              "<pre style=\"white-space:pre;overflow-x:auto;line-height:normal;font-family:Menlo,'DejaVu Sans Mono',consolas,'Courier New',monospace\">\n",
              "✅ <span style=\"color: #008000; text-decoration-color: #008000; font-weight: bold\">DAG EXECUTADA COM SUCESSO!</span>\n",
              "</pre>\n"
            ]
          },
          "metadata": {}
        }
      ],
      "source": [
        "# EXECUTA A DAG DO AIRFLOW!\n",
        "console.print(\"\\n🚀 [bold yellow]EXECUTANDO DAG DO AIRFLOW[/bold yellow]\\n\")\n",
        "\n",
        "# Testa se a DAG está válida\n",
        "!python /content/data_pipeline/dags/data_pipeline_dag.py\n",
        "\n",
        "# Lista as DAGs disponíveis\n",
        "console.print(\"\\n📋 DAGs disponíveis:\")\n",
        "!airflow dags list 2>/dev/null | grep data_pipeline\n",
        "\n",
        "# Executa a DAG manualmente\n",
        "console.print(\"\\n▶️ Executando DAG...\")\n",
        "!airflow dags test data_pipeline_dag 2024-01-01 2>/dev/null\n",
        "\n",
        "console.print(\"\\n✅ [bold green]DAG EXECUTADA COM SUCESSO![/bold green]\")"
      ]
    },
    {
      "cell_type": "markdown",
      "metadata": {
        "id": "ZU5vTE6WDO2C"
      },
      "source": [
        "## 📊 Parte 7: Análise Final e Métricas do Pipeline"
      ]
    },
    {
      "cell_type": "code",
      "execution_count": null,
      "metadata": {
        "colab": {
          "base_uri": "https://localhost:8080/",
          "height": 374
        },
        "id": "K5W7JO0aDO2C",
        "outputId": "a433d8ef-c9d4-41e6-970b-c58fab7645cf"
      },
      "outputs": [
        {
          "output_type": "display_data",
          "data": {
            "text/plain": [
              "\n",
              "📊 \u001b[1;36mMÉTRICAS FINAIS DO PIPELINE\u001b[0m\n",
              "\n"
            ],
            "text/html": [
              "<pre style=\"white-space:pre;overflow-x:auto;line-height:normal;font-family:Menlo,'DejaVu Sans Mono',consolas,'Courier New',monospace\">\n",
              "📊 <span style=\"color: #008080; text-decoration-color: #008080; font-weight: bold\">MÉTRICAS FINAIS DO PIPELINE</span>\n",
              "\n",
              "</pre>\n"
            ]
          },
          "metadata": {}
        },
        {
          "output_type": "display_data",
          "data": {
            "text/plain": [
              "\u001b[3m           Pipeline Metrics by Layer            \u001b[0m\n",
              "┏━━━━━━━━┳━━━━━━━━┳━━━━━━━━━━━━┳━━━━━━━━━━━━━━━┓\n",
              "┃\u001b[1;35m \u001b[0m\u001b[1;35mLayer \u001b[0m\u001b[1;35m \u001b[0m┃\u001b[1;35m \u001b[0m\u001b[1;35mTables\u001b[0m\u001b[1;35m \u001b[0m┃\u001b[1;35m \u001b[0m\u001b[1;35mTotal Rows\u001b[0m\u001b[1;35m \u001b[0m┃\u001b[1;35m \u001b[0m\u001b[1;35mTotal Columns\u001b[0m\u001b[1;35m \u001b[0m┃\n",
              "┡━━━━━━━━╇━━━━━━━━╇━━━━━━━━━━━━╇━━━━━━━━━━━━━━━┩\n",
              "│\u001b[2;36m \u001b[0m\u001b[2;36mBronze\u001b[0m\u001b[2;36m \u001b[0m│\u001b[2m \u001b[0m\u001b[2m     3\u001b[0m\u001b[2m \u001b[0m│\u001b[2m \u001b[0m\u001b[2m       185\u001b[0m\u001b[2m \u001b[0m│\u001b[2m \u001b[0m\u001b[2m           25\u001b[0m\u001b[2m \u001b[0m│\n",
              "│\u001b[32m \u001b[0m\u001b[32mSilver\u001b[0m\u001b[32m \u001b[0m│\u001b[32m \u001b[0m\u001b[32m     3\u001b[0m\u001b[32m \u001b[0m│\u001b[32m \u001b[0m\u001b[32m       185\u001b[0m\u001b[32m \u001b[0m│\u001b[32m \u001b[0m\u001b[32m           32\u001b[0m\u001b[32m \u001b[0m│\n",
              "│\u001b[1;33m \u001b[0m\u001b[1;33mGold  \u001b[0m\u001b[1;33m \u001b[0m│\u001b[1;33m \u001b[0m\u001b[1;33m     3\u001b[0m\u001b[1;33m \u001b[0m│\u001b[1;33m \u001b[0m\u001b[1;33m         5\u001b[0m\u001b[1;33m \u001b[0m│\u001b[1;33m \u001b[0m\u001b[1;33m           26\u001b[0m\u001b[1;33m \u001b[0m│\n",
              "└────────┴────────┴────────────┴───────────────┘\n"
            ],
            "text/html": [
              "<pre style=\"white-space:pre;overflow-x:auto;line-height:normal;font-family:Menlo,'DejaVu Sans Mono',consolas,'Courier New',monospace\"><span style=\"font-style: italic\">           Pipeline Metrics by Layer            </span>\n",
              "┏━━━━━━━━┳━━━━━━━━┳━━━━━━━━━━━━┳━━━━━━━━━━━━━━━┓\n",
              "┃<span style=\"color: #800080; text-decoration-color: #800080; font-weight: bold\"> Layer  </span>┃<span style=\"color: #800080; text-decoration-color: #800080; font-weight: bold\"> Tables </span>┃<span style=\"color: #800080; text-decoration-color: #800080; font-weight: bold\"> Total Rows </span>┃<span style=\"color: #800080; text-decoration-color: #800080; font-weight: bold\"> Total Columns </span>┃\n",
              "┡━━━━━━━━╇━━━━━━━━╇━━━━━━━━━━━━╇━━━━━━━━━━━━━━━┩\n",
              "│<span style=\"color: #7fbfbf; text-decoration-color: #7fbfbf\"> Bronze </span>│<span style=\"color: #7f7f7f; text-decoration-color: #7f7f7f\">      3 </span>│<span style=\"color: #7f7f7f; text-decoration-color: #7f7f7f\">        185 </span>│<span style=\"color: #7f7f7f; text-decoration-color: #7f7f7f\">            25 </span>│\n",
              "│<span style=\"color: #008000; text-decoration-color: #008000\"> Silver </span>│<span style=\"color: #008000; text-decoration-color: #008000\">      3 </span>│<span style=\"color: #008000; text-decoration-color: #008000\">        185 </span>│<span style=\"color: #008000; text-decoration-color: #008000\">            32 </span>│\n",
              "│<span style=\"color: #808000; text-decoration-color: #808000; font-weight: bold\"> Gold   </span>│<span style=\"color: #808000; text-decoration-color: #808000; font-weight: bold\">      3 </span>│<span style=\"color: #808000; text-decoration-color: #808000; font-weight: bold\">          5 </span>│<span style=\"color: #808000; text-decoration-color: #808000; font-weight: bold\">            26 </span>│\n",
              "└────────┴────────┴────────────┴───────────────┘\n",
              "</pre>\n"
            ]
          },
          "metadata": {}
        },
        {
          "output_type": "display_data",
          "data": {
            "text/plain": [
              "\n",
              "🔍 \u001b[1mData Quality Report:\u001b[0m\n"
            ],
            "text/html": [
              "<pre style=\"white-space:pre;overflow-x:auto;line-height:normal;font-family:Menlo,'DejaVu Sans Mono',consolas,'Courier New',monospace\">\n",
              "🔍 <span style=\"font-weight: bold\">Data Quality Report:</span>\n",
              "</pre>\n"
            ]
          },
          "metadata": {}
        },
        {
          "output_type": "display_data",
          "data": {
            "text/plain": [
              "  📁 GitHub Data: \u001b[1;36m10\u001b[0m records, \u001b[1;36m10\u001b[0m unique, \u001b[1;36m100.0\u001b[0m% complete\n"
            ],
            "text/html": [
              "<pre style=\"white-space:pre;overflow-x:auto;line-height:normal;font-family:Menlo,'DejaVu Sans Mono',consolas,'Courier New',monospace\">  📁 GitHub Data: <span style=\"color: #008080; text-decoration-color: #008080; font-weight: bold\">10</span> records, <span style=\"color: #008080; text-decoration-color: #008080; font-weight: bold\">10</span> unique, <span style=\"color: #008080; text-decoration-color: #008080; font-weight: bold\">100.0</span>% complete\n",
              "</pre>\n"
            ]
          },
          "metadata": {}
        },
        {
          "output_type": "display_data",
          "data": {
            "text/plain": [
              "  📁 Exchange Data: \u001b[1;36m165\u001b[0m records, \u001b[1;36m165\u001b[0m unique, \u001b[1;36m100.0\u001b[0m% complete\n"
            ],
            "text/html": [
              "<pre style=\"white-space:pre;overflow-x:auto;line-height:normal;font-family:Menlo,'DejaVu Sans Mono',consolas,'Courier New',monospace\">  📁 Exchange Data: <span style=\"color: #008080; text-decoration-color: #008080; font-weight: bold\">165</span> records, <span style=\"color: #008080; text-decoration-color: #008080; font-weight: bold\">165</span> unique, <span style=\"color: #008080; text-decoration-color: #008080; font-weight: bold\">100.0</span>% complete\n",
              "</pre>\n"
            ]
          },
          "metadata": {}
        },
        {
          "output_type": "display_data",
          "data": {
            "text/plain": [
              "  📁 Posts Data: \u001b[1;36m10\u001b[0m records, \u001b[1;36m1\u001b[0m unique, \u001b[1;36m100.0\u001b[0m% complete\n"
            ],
            "text/html": [
              "<pre style=\"white-space:pre;overflow-x:auto;line-height:normal;font-family:Menlo,'DejaVu Sans Mono',consolas,'Courier New',monospace\">  📁 Posts Data: <span style=\"color: #008080; text-decoration-color: #008080; font-weight: bold\">10</span> records, <span style=\"color: #008080; text-decoration-color: #008080; font-weight: bold\">1</span> unique, <span style=\"color: #008080; text-decoration-color: #008080; font-weight: bold\">100.0</span>% complete\n",
              "</pre>\n"
            ]
          },
          "metadata": {}
        },
        {
          "output_type": "display_data",
          "data": {
            "text/plain": [
              "\n",
              "🎉 \u001b[1;32mPIPELINE COMPLETO E FUNCIONANDO!\u001b[0m\n"
            ],
            "text/html": [
              "<pre style=\"white-space:pre;overflow-x:auto;line-height:normal;font-family:Menlo,'DejaVu Sans Mono',consolas,'Courier New',monospace\">\n",
              "🎉 <span style=\"color: #008000; text-decoration-color: #008000; font-weight: bold\">PIPELINE COMPLETO E FUNCIONANDO!</span>\n",
              "</pre>\n"
            ]
          },
          "metadata": {}
        },
        {
          "output_type": "display_data",
          "data": {
            "text/plain": [
              "\n",
              "💡 \u001b[33mPróximos passos:\u001b[0m\n"
            ],
            "text/html": [
              "<pre style=\"white-space:pre;overflow-x:auto;line-height:normal;font-family:Menlo,'DejaVu Sans Mono',consolas,'Courier New',monospace\">\n",
              "💡 <span style=\"color: #808000; text-decoration-color: #808000\">Próximos passos:</span>\n",
              "</pre>\n"
            ]
          },
          "metadata": {}
        },
        {
          "output_type": "display_data",
          "data": {
            "text/plain": [
              "   \u001b[1;36m1\u001b[0m. Adicionar mais fontes de dados\n"
            ],
            "text/html": [
              "<pre style=\"white-space:pre;overflow-x:auto;line-height:normal;font-family:Menlo,'DejaVu Sans Mono',consolas,'Courier New',monospace\">   <span style=\"color: #008080; text-decoration-color: #008080; font-weight: bold\">1</span>. Adicionar mais fontes de dados\n",
              "</pre>\n"
            ]
          },
          "metadata": {}
        },
        {
          "output_type": "display_data",
          "data": {
            "text/plain": [
              "   \u001b[1;36m2\u001b[0m. Implementar CDC \u001b[1m(\u001b[0mChange Data Capture\u001b[1m)\u001b[0m\n"
            ],
            "text/html": [
              "<pre style=\"white-space:pre;overflow-x:auto;line-height:normal;font-family:Menlo,'DejaVu Sans Mono',consolas,'Courier New',monospace\">   <span style=\"color: #008080; text-decoration-color: #008080; font-weight: bold\">2</span>. Implementar CDC <span style=\"font-weight: bold\">(</span>Change Data Capture<span style=\"font-weight: bold\">)</span>\n",
              "</pre>\n"
            ]
          },
          "metadata": {}
        },
        {
          "output_type": "display_data",
          "data": {
            "text/plain": [
              "   \u001b[1;36m3\u001b[0m. Conectar com um Data Lake real \u001b[1m(\u001b[0mS3/GCS/Azure\u001b[1m)\u001b[0m\n"
            ],
            "text/html": [
              "<pre style=\"white-space:pre;overflow-x:auto;line-height:normal;font-family:Menlo,'DejaVu Sans Mono',consolas,'Courier New',monospace\">   <span style=\"color: #008080; text-decoration-color: #008080; font-weight: bold\">3</span>. Conectar com um Data Lake real <span style=\"font-weight: bold\">(</span>S3/GCS/Azure<span style=\"font-weight: bold\">)</span>\n",
              "</pre>\n"
            ]
          },
          "metadata": {}
        },
        {
          "output_type": "display_data",
          "data": {
            "text/plain": [
              "   \u001b[1;36m4\u001b[0m. Adicionar monitoramento e alertas\n"
            ],
            "text/html": [
              "<pre style=\"white-space:pre;overflow-x:auto;line-height:normal;font-family:Menlo,'DejaVu Sans Mono',consolas,'Courier New',monospace\">   <span style=\"color: #008080; text-decoration-color: #008080; font-weight: bold\">4</span>. Adicionar monitoramento e alertas\n",
              "</pre>\n"
            ]
          },
          "metadata": {}
        },
        {
          "output_type": "display_data",
          "data": {
            "text/plain": [
              "   \u001b[1;36m5\u001b[0m. Implementar data lineage\n"
            ],
            "text/html": [
              "<pre style=\"white-space:pre;overflow-x:auto;line-height:normal;font-family:Menlo,'DejaVu Sans Mono',consolas,'Courier New',monospace\">   <span style=\"color: #008080; text-decoration-color: #008080; font-weight: bold\">5</span>. Implementar data lineage\n",
              "</pre>\n"
            ]
          },
          "metadata": {}
        }
      ],
      "source": [
        "# Análise completa do pipeline\n",
        "console.print(\"\\n📊 [bold cyan]MÉTRICAS FINAIS DO PIPELINE[/bold cyan]\\n\")\n",
        "\n",
        "conn = duckdb.connect('/content/data_pipeline/warehouse.duckdb')\n",
        "\n",
        "# 1. Estatísticas gerais\n",
        "pipeline_metrics = conn.execute(\"\"\"\n",
        "    WITH layer_stats AS (\n",
        "        SELECT\n",
        "            'Bronze' as layer,\n",
        "            COUNT(DISTINCT table_name) as table_count,\n",
        "            SUM(row_count) as total_rows,\n",
        "            SUM(column_count) as total_columns\n",
        "        FROM (\n",
        "            SELECT\n",
        "                'raw_github' as table_name,\n",
        "                COUNT(*) as row_count,\n",
        "                (SELECT COUNT(*) FROM pragma_table_info('bronze.raw_github')) as column_count\n",
        "            FROM bronze.raw_github\n",
        "            UNION ALL\n",
        "            SELECT\n",
        "                'raw_exchange',\n",
        "                COUNT(*),\n",
        "                (SELECT COUNT(*) FROM pragma_table_info('bronze.raw_exchange'))\n",
        "            FROM bronze.raw_exchange\n",
        "            UNION ALL\n",
        "            SELECT\n",
        "                'raw_posts',\n",
        "                COUNT(*),\n",
        "                (SELECT COUNT(*) FROM pragma_table_info('bronze.raw_posts'))\n",
        "            FROM bronze.raw_posts\n",
        "        )\n",
        "        UNION ALL\n",
        "        SELECT\n",
        "            'Silver',\n",
        "            3,\n",
        "            (SELECT COUNT(*) FROM main_silver.stg_github_repos) +\n",
        "            (SELECT COUNT(*) FROM main_silver.stg_exchange_rates) +\n",
        "            (SELECT COUNT(*) FROM main_silver.stg_posts),\n",
        "            (SELECT COUNT(*) FROM pragma_table_info('main_silver.stg_github_repos')) +\n",
        "            (SELECT COUNT(*) FROM pragma_table_info('main_silver.stg_exchange_rates')) +\n",
        "            (SELECT COUNT(*) FROM pragma_table_info('main_silver.stg_posts'))\n",
        "        UNION ALL\n",
        "        SELECT\n",
        "            'Gold',\n",
        "            3,\n",
        "            (SELECT COUNT(*) FROM main_gold.repo_language_analytics) +\n",
        "            (SELECT COUNT(*) FROM main_gold.exchange_dashboard) +\n",
        "            (SELECT COUNT(*) FROM main_gold.engagement_analysis),\n",
        "            (SELECT COUNT(*) FROM pragma_table_info('main_gold.repo_language_analytics')) +\n",
        "            (SELECT COUNT(*) FROM pragma_table_info('main_gold.exchange_dashboard')) +\n",
        "            (SELECT COUNT(*) FROM pragma_table_info('main_gold.engagement_analysis'))\n",
        "    )\n",
        "    SELECT * FROM layer_stats\n",
        "\"\"\").df()\n",
        "\n",
        "# Cria tabela visual com Rich\n",
        "table = Table(title=\"Pipeline Metrics by Layer\", show_header=True, header_style=\"bold magenta\")\n",
        "table.add_column(\"Layer\", style=\"cyan\", no_wrap=True)\n",
        "table.add_column(\"Tables\", justify=\"right\")\n",
        "table.add_column(\"Total Rows\", justify=\"right\")\n",
        "table.add_column(\"Total Columns\", justify=\"right\")\n",
        "\n",
        "for _, row in pipeline_metrics.iterrows():\n",
        "    style = \"bold yellow\" if row['layer'] == 'Gold' else \"green\" if row['layer'] == 'Silver' else \"dim\"\n",
        "    table.add_row(\n",
        "        row['layer'],\n",
        "        str(int(row['table_count'])),\n",
        "        str(int(row['total_rows'])),\n",
        "        str(int(row['total_columns'])),\n",
        "        style=style\n",
        "    )\n",
        "\n",
        "console.print(table)\n",
        "\n",
        "# 2. Data Quality Report\n",
        "console.print(\"\\n🔍 [bold]Data Quality Report:[/bold]\")\n",
        "quality_report = conn.execute(\"\"\"\n",
        "    SELECT\n",
        "        'GitHub Data' as dataset,\n",
        "        COUNT(*) as records,\n",
        "        COUNT(DISTINCT repo_name) as unique_values,\n",
        "        AVG(CASE WHEN stars IS NOT NULL THEN 1 ELSE 0 END) * 100 as completeness_pct\n",
        "    FROM main_silver.stg_github_repos\n",
        "    UNION ALL\n",
        "    SELECT\n",
        "        'Exchange Data',\n",
        "        COUNT(*),\n",
        "        COUNT(DISTINCT target_currency),\n",
        "        AVG(CASE WHEN exchange_rate IS NOT NULL THEN 1 ELSE 0 END) * 100\n",
        "    FROM main_silver.stg_exchange_rates\n",
        "    UNION ALL\n",
        "    SELECT\n",
        "        'Posts Data',\n",
        "        COUNT(*),\n",
        "        COUNT(DISTINCT user_id),\n",
        "        AVG(CASE WHEN title IS NOT NULL THEN 1 ELSE 0 END) * 100\n",
        "    FROM main_silver.stg_posts\n",
        "\"\"\").df()\n",
        "\n",
        "for _, row in quality_report.iterrows():\n",
        "    console.print(f\"  📁 {row['dataset']}: {row['records']} records, \"\n",
        "                 f\"{row['unique_values']} unique, \"\n",
        "                 f\"{row['completeness_pct']:.1f}% complete\")\n",
        "\n",
        "conn.close()\n",
        "\n",
        "console.print(\"\\n🎉 [bold green]PIPELINE COMPLETO E FUNCIONANDO![/bold green]\")\n",
        "console.print(\"\\n💡 [yellow]Próximos passos:[/yellow]\")\n",
        "console.print(\"   1. Adicionar mais fontes de dados\")\n",
        "console.print(\"   2. Implementar CDC (Change Data Capture)\")\n",
        "console.print(\"   3. Conectar com um Data Lake real (S3/GCS/Azure)\")\n",
        "console.print(\"   4. Adicionar monitoramento e alertas\")\n",
        "console.print(\"   5. Implementar data lineage\")"
      ]
    },
    {
      "cell_type": "markdown",
      "metadata": {
        "id": "-FogYETeDO2D"
      },
      "source": [
        "## 🎯 Exercícios Práticos\n",
        "\n",
        "### Exercício 1: Adicionar Nova Fonte de Dados\n",
        "Adicione uma nova API ao extrator (sugestões: NewsAPI, CoinGecko, OpenWeather)\n",
        "\n",
        "### Exercício 2: Criar Nova Transformação DBT\n",
        "Crie um modelo que combine dados de múltiplas fontes\n",
        "\n",
        "### Exercício 3: Implementar Data Quality Checks\n",
        "Adicione mais testes DBT para garantir qualidade dos dados\n",
        "\n",
        "### Exercício 4: Otimizar Performance\n",
        "Implemente particionamento e índices no DuckDB\n",
        "\n",
        "### Exercício 5: Criar Dashboard\n",
        "Use Streamlit ou Plotly para criar um dashboard interativo"
      ]
    }
  ],
  "metadata": {
    "kernelspec": {
      "display_name": "Python 3",
      "name": "python3"
    },
    "colab": {
      "provenance": [],
      "machine_shape": "hm",
      "gpuType": "T4",
      "include_colab_link": true
    },
    "accelerator": "GPU"
  },
  "nbformat": 4,
  "nbformat_minor": 0
}