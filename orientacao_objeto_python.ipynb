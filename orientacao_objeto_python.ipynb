{
  "nbformat": 4,
  "nbformat_minor": 0,
  "metadata": {
    "colab": {
      "provenance": [],
      "authorship_tag": "ABX9TyMZtoDweXcEXJ7yDyy/9q5b",
      "include_colab_link": true
    },
    "kernelspec": {
      "name": "python3",
      "display_name": "Python 3"
    },
    "language_info": {
      "name": "python"
    }
  },
  "cells": [
    {
      "cell_type": "markdown",
      "metadata": {
        "id": "view-in-github",
        "colab_type": "text"
      },
      "source": [
        "<a href=\"https://colab.research.google.com/github/LeticiaHms/data-collection-mba/blob/main/orientacao_objeto_python.ipynb\" target=\"_parent\"><img src=\"https://colab.research.google.com/assets/colab-badge.svg\" alt=\"Open In Colab\"/></a>"
      ]
    },
    {
      "cell_type": "code",
      "execution_count": 28,
      "metadata": {
        "id": "DSeonnHdr-bA"
      },
      "outputs": [],
      "source": [
        "#nome de classe sempre nomear usando o CapWords (palavras comecando por letra maisucula: ConstrutorQuadrado)\n",
        "class Quadrado:\n",
        "\n",
        "  def __init__(self, lado: int):\n",
        "    self.lado = lado\n",
        "\n",
        "  def calcular_area(self):\n",
        "    area = self.lado ** 2\n",
        "    return area"
      ]
    },
    {
      "cell_type": "code",
      "source": [
        "from pydantic import BaseModel\n",
        "\n",
        "#uma classe para definir o tipo das variaveis por Schema, nome da classe ou da tabela e adicionar Schema no nome.\n",
        "#Exemplo: Tabelas, retorno de api.\n",
        "class QuadradoSchema(BaseModel):\n",
        "  lado: int"
      ],
      "metadata": {
        "id": "rymo0xr6sA3X"
      },
      "execution_count": 29,
      "outputs": []
    },
    {
      "cell_type": "code",
      "source": [
        "#inicializar o objeto puxando o nome da classe e os parametros necessarios\n",
        "quadrado = Quadrado(2)"
      ],
      "metadata": {
        "id": "Y-XCIPGhtpU-"
      },
      "execution_count": 37,
      "outputs": []
    },
    {
      "cell_type": "code",
      "source": [
        "#chamar o objeto e colocar o . como normalmente para chamar a função e guardar esse valor\n",
        "area_quadrado = quadrado.calcular_area()\n",
        "print(area_quadrado)"
      ],
      "metadata": {
        "colab": {
          "base_uri": "https://localhost:8080/"
        },
        "id": "KLAfG4wauT8S",
        "outputId": "d2fab149-9bec-4ca3-80f8-a7e3a5733f09"
      },
      "execution_count": 38,
      "outputs": [
        {
          "output_type": "stream",
          "name": "stdout",
          "text": [
            "4\n"
          ]
        }
      ]
    }
  ]
}